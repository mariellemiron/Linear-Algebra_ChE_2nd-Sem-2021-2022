{
  "nbformat": 4,
  "nbformat_minor": 0,
  "metadata": {
    "colab": {
      "name": "Activity_1-Python Fundamentals",
      "provenance": [],
      "collapsed_sections": [],
      "authorship_tag": "ABX9TyNxrCYe1OG1eX/5yIyMkdkL",
      "include_colab_link": true
    },
    "kernelspec": {
      "name": "python3",
      "display_name": "Python 3"
    },
    "language_info": {
      "name": "python"
    }
  },
  "cells": [
    {
      "cell_type": "markdown",
      "metadata": {
        "id": "view-in-github",
        "colab_type": "text"
      },
      "source": [
        "<a href=\"https://colab.research.google.com/github/mariellemiron/Linear-Algebra_ChE_2nd-Sem-2021-2022/blob/main/Activity_1_Python_Fundamentals.ipynb\" target=\"_parent\"><img src=\"https://colab.research.google.com/assets/colab-badge.svg\" alt=\"Open In Colab\"/></a>"
      ]
    },
    {
      "cell_type": "markdown",
      "source": [
        "# Welcome to Python Fundamentals\n",
        "In this module, we are going to establish or review our skills in Python programming. In this notebook we are going to cover:\n",
        "* Variables and Data Types \n",
        "* Operations\n",
        "* Input and Output Operations\n",
        "* Logic Control\n",
        "* Iterables\n",
        "* Functions"
      ],
      "metadata": {
        "id": "6SqNdm7p_hgW"
      }
    },
    {
      "cell_type": "markdown",
      "source": [
        "## Variable and Data Types\n"
      ],
      "metadata": {
        "id": "TjMWkTsBAMJW"
      }
    },
    {
      "cell_type": "code",
      "source": [
        "f = 6\n",
        "e,y = 0, -1"
      ],
      "metadata": {
        "id": "fsfGOeY7AVRw"
      },
      "execution_count": null,
      "outputs": []
    },
    {
      "cell_type": "code",
      "source": [
        "type(f)"
      ],
      "metadata": {
        "id": "DQg34hI6A7bV",
        "colab": {
          "base_uri": "https://localhost:8080/"
        },
        "outputId": "82bfcd9a-4bde-4bd2-c21a-a77454e2e467"
      },
      "execution_count": null,
      "outputs": [
        {
          "output_type": "execute_result",
          "data": {
            "text/plain": [
              "int"
            ]
          },
          "metadata": {},
          "execution_count": 3
        }
      ]
    },
    {
      "cell_type": "code",
      "source": [
        "z = 1.0\n",
        "type(z)"
      ],
      "metadata": {
        "id": "1d6t3AncBV3S",
        "colab": {
          "base_uri": "https://localhost:8080/"
        },
        "outputId": "344a18c2-f00e-439c-e026-495bb4042c03"
      },
      "execution_count": null,
      "outputs": [
        {
          "output_type": "execute_result",
          "data": {
            "text/plain": [
              "float"
            ]
          },
          "metadata": {},
          "execution_count": 4
        }
      ]
    },
    {
      "cell_type": "code",
      "source": [
        "z = float(z)\n",
        "type(z)"
      ],
      "metadata": {
        "id": "kWAR5j63BpLx",
        "colab": {
          "base_uri": "https://localhost:8080/"
        },
        "outputId": "ae79d28d-4612-4154-8af8-0301471c0455"
      },
      "execution_count": null,
      "outputs": [
        {
          "output_type": "execute_result",
          "data": {
            "text/plain": [
              "float"
            ]
          },
          "metadata": {},
          "execution_count": 5
        }
      ]
    },
    {
      "cell_type": "code",
      "source": [
        "s, t, u = \"0\", '17', 'seventeen'\n",
        "type(s)"
      ],
      "metadata": {
        "id": "Ey7Z10jGCAvH",
        "colab": {
          "base_uri": "https://localhost:8080/"
        },
        "outputId": "1d58ca1a-6753-44f9-9374-9908a9ea2247"
      },
      "execution_count": null,
      "outputs": [
        {
          "output_type": "execute_result",
          "data": {
            "text/plain": [
              "str"
            ]
          },
          "metadata": {},
          "execution_count": 1
        }
      ]
    },
    {
      "cell_type": "code",
      "source": [
        "s_int = int(s)\n",
        "s_int"
      ],
      "metadata": {
        "id": "fk0iKXq9B3ys",
        "colab": {
          "base_uri": "https://localhost:8080/"
        },
        "outputId": "63244519-4e2f-4c60-e473-e281389f6faf"
      },
      "execution_count": null,
      "outputs": [
        {
          "output_type": "execute_result",
          "data": {
            "text/plain": [
              "0"
            ]
          },
          "metadata": {},
          "execution_count": 6
        }
      ]
    },
    {
      "cell_type": "markdown",
      "source": [
        "##Operations"
      ],
      "metadata": {
        "id": "9fOrWp2rCMg0"
      }
    },
    {
      "cell_type": "markdown",
      "source": [
        "###Arithmetic"
      ],
      "metadata": {
        "id": "c4yOfttqCSGk"
      }
    },
    {
      "cell_type": "code",
      "source": [
        "a,b,c,d = 4.6, -0.2, 17, -13"
      ],
      "metadata": {
        "id": "MYMEw-KbC7P4"
      },
      "execution_count": null,
      "outputs": []
    },
    {
      "cell_type": "code",
      "source": [
        "### Addition\n",
        "S = a+b\n",
        "S"
      ],
      "metadata": {
        "id": "dE7a-o6UDBAD",
        "colab": {
          "base_uri": "https://localhost:8080/"
        },
        "outputId": "bf97f253-4d26-45e1-d792-abce85d071f3"
      },
      "execution_count": null,
      "outputs": [
        {
          "output_type": "execute_result",
          "data": {
            "text/plain": [
              "4.3999999999999995"
            ]
          },
          "metadata": {},
          "execution_count": 9
        }
      ]
    },
    {
      "cell_type": "code",
      "source": [
        "### Subtraction\n",
        "D = b-d\n",
        "D"
      ],
      "metadata": {
        "id": "bCT-0RTvDFQa",
        "colab": {
          "base_uri": "https://localhost:8080/"
        },
        "outputId": "e6e66606-fa98-4019-c7b8-158c3c0846c3"
      },
      "execution_count": null,
      "outputs": [
        {
          "output_type": "execute_result",
          "data": {
            "text/plain": [
              "12.8"
            ]
          },
          "metadata": {},
          "execution_count": 10
        }
      ]
    },
    {
      "cell_type": "code",
      "source": [
        "### Multiplication\n",
        "P = a*d\n",
        "P"
      ],
      "metadata": {
        "id": "Q8Bju3pnEWJH",
        "colab": {
          "base_uri": "https://localhost:8080/"
        },
        "outputId": "bbc19499-bcfb-4da3-acaf-d54216f2f6aa"
      },
      "execution_count": null,
      "outputs": [
        {
          "output_type": "execute_result",
          "data": {
            "text/plain": [
              "-59.8"
            ]
          },
          "metadata": {},
          "execution_count": 11
        }
      ]
    },
    {
      "cell_type": "code",
      "source": [
        "### Floor Division\n",
        "Fq = a/b\n",
        "Fq"
      ],
      "metadata": {
        "id": "AgjRnEemEs26",
        "colab": {
          "base_uri": "https://localhost:8080/"
        },
        "outputId": "6082603f-b429-4da9-d868-7e8d99a3316c"
      },
      "execution_count": null,
      "outputs": [
        {
          "output_type": "execute_result",
          "data": {
            "text/plain": [
              "-22.999999999999996"
            ]
          },
          "metadata": {},
          "execution_count": 12
        }
      ]
    },
    {
      "cell_type": "code",
      "source": [
        "### Exponentiation\n",
        "E = a**b\n",
        "E"
      ],
      "metadata": {
        "id": "amFTcRjjFEur",
        "colab": {
          "base_uri": "https://localhost:8080/"
        },
        "outputId": "39612a51-3792-4eb1-9f19-b72db26a9d4c"
      },
      "execution_count": null,
      "outputs": [
        {
          "output_type": "execute_result",
          "data": {
            "text/plain": [
              "0.7369676656404461"
            ]
          },
          "metadata": {},
          "execution_count": 13
        }
      ]
    },
    {
      "cell_type": "code",
      "source": [
        "### Modulo \n",
        "mod = a%d\n",
        "mod"
      ],
      "metadata": {
        "id": "aRqrIWFIFvvQ",
        "colab": {
          "base_uri": "https://localhost:8080/"
        },
        "outputId": "500ec5c4-36a9-412a-9be5-6fe756e11e81"
      },
      "execution_count": null,
      "outputs": [
        {
          "output_type": "execute_result",
          "data": {
            "text/plain": [
              "-8.4"
            ]
          },
          "metadata": {},
          "execution_count": 14
        }
      ]
    },
    {
      "cell_type": "markdown",
      "source": [
        "###Assignment Operations"
      ],
      "metadata": {
        "id": "Nj7nkiuHIIwS"
      }
    },
    {
      "cell_type": "code",
      "source": [
        "M, C, F, U = 0, 100, 2, 3"
      ],
      "metadata": {
        "id": "OLE8TYNSIzNO"
      },
      "execution_count": null,
      "outputs": []
    },
    {
      "cell_type": "code",
      "source": [
        "M += a\n",
        "M"
      ],
      "metadata": {
        "id": "dE3mHJP9J1Ik",
        "colab": {
          "base_uri": "https://localhost:8080/"
        },
        "outputId": "17b189ba-288a-47e5-8bb1-0448701f2f9b"
      },
      "execution_count": null,
      "outputs": [
        {
          "output_type": "execute_result",
          "data": {
            "text/plain": [
              "4.6"
            ]
          },
          "metadata": {},
          "execution_count": 16
        }
      ]
    },
    {
      "cell_type": "code",
      "source": [
        "C -= d\n",
        "C"
      ],
      "metadata": {
        "id": "KLcgl0pTKGYG",
        "colab": {
          "base_uri": "https://localhost:8080/"
        },
        "outputId": "ee90d655-eefd-4e43-b46d-c575918a7914"
      },
      "execution_count": null,
      "outputs": [
        {
          "output_type": "execute_result",
          "data": {
            "text/plain": [
              "113"
            ]
          },
          "metadata": {},
          "execution_count": 17
        }
      ]
    },
    {
      "cell_type": "code",
      "source": [
        "F *= 2\n",
        "F"
      ],
      "metadata": {
        "id": "LJPuW9wAKL4K",
        "colab": {
          "base_uri": "https://localhost:8080/"
        },
        "outputId": "3555c796-6322-4b2a-d6bd-ed0677849d2f"
      },
      "execution_count": null,
      "outputs": [
        {
          "output_type": "execute_result",
          "data": {
            "text/plain": [
              "4"
            ]
          },
          "metadata": {},
          "execution_count": 18
        }
      ]
    },
    {
      "cell_type": "code",
      "source": [
        "U **= 3\n",
        "U"
      ],
      "metadata": {
        "id": "n5reGYWaKXCY",
        "colab": {
          "base_uri": "https://localhost:8080/"
        },
        "outputId": "9f8dc5b4-c47a-440c-aeff-28819c1e4ef1"
      },
      "execution_count": null,
      "outputs": [
        {
          "output_type": "execute_result",
          "data": {
            "text/plain": [
              "27"
            ]
          },
          "metadata": {},
          "execution_count": 19
        }
      ]
    },
    {
      "cell_type": "markdown",
      "source": [
        "###Comparators"
      ],
      "metadata": {
        "id": "wNSB8V7cLWJ2"
      }
    },
    {
      "cell_type": "code",
      "source": [
        "res_1, res_2, res_3 = 1, 2.0, \"1\"\n",
        "true_val = 1.0"
      ],
      "metadata": {
        "id": "Q1iUyy--LXv2"
      },
      "execution_count": null,
      "outputs": []
    },
    {
      "cell_type": "code",
      "source": [
        "## Equality\n",
        "res_1 == true_val"
      ],
      "metadata": {
        "id": "7LsKFWoeLgRd",
        "colab": {
          "base_uri": "https://localhost:8080/"
        },
        "outputId": "e2f968c9-495a-480e-a019-a12850b8bdc9"
      },
      "execution_count": null,
      "outputs": [
        {
          "output_type": "execute_result",
          "data": {
            "text/plain": [
              "True"
            ]
          },
          "metadata": {},
          "execution_count": 21
        }
      ]
    },
    {
      "cell_type": "code",
      "source": [
        "## Non-equality\n",
        "res_2 != true_val"
      ],
      "metadata": {
        "id": "Aw1voTKAL1aB",
        "colab": {
          "base_uri": "https://localhost:8080/"
        },
        "outputId": "e615230e-dc38-44e7-b916-4591ebff9dc5"
      },
      "execution_count": null,
      "outputs": [
        {
          "output_type": "execute_result",
          "data": {
            "text/plain": [
              "True"
            ]
          },
          "metadata": {},
          "execution_count": 22
        }
      ]
    },
    {
      "cell_type": "code",
      "source": [
        "## Inequality\n",
        "t1 = res_1 > res_2\n",
        "t2 = res_1 < res_2/2\n",
        "t3 = res_1 >= res_2/2\n",
        "t4 = res_1 <= res_2\n",
        "t3"
      ],
      "metadata": {
        "id": "TGCVK7GzL7Gi",
        "colab": {
          "base_uri": "https://localhost:8080/"
        },
        "outputId": "23516f01-329b-4e7f-b72b-a0bee24bc201"
      },
      "execution_count": null,
      "outputs": [
        {
          "output_type": "execute_result",
          "data": {
            "text/plain": [
              "True"
            ]
          },
          "metadata": {},
          "execution_count": 25
        }
      ]
    },
    {
      "cell_type": "markdown",
      "source": [
        "###Logical"
      ],
      "metadata": {
        "id": "uRUkvhOJMWRY"
      }
    },
    {
      "cell_type": "code",
      "source": [
        "res_1 == true_val"
      ],
      "metadata": {
        "id": "xqRrag9jMYQ6",
        "colab": {
          "base_uri": "https://localhost:8080/"
        },
        "outputId": "c83e9931-900c-4e00-b771-23bb70f3c33e"
      },
      "execution_count": null,
      "outputs": [
        {
          "output_type": "execute_result",
          "data": {
            "text/plain": [
              "True"
            ]
          },
          "metadata": {},
          "execution_count": 26
        }
      ]
    },
    {
      "cell_type": "code",
      "source": [
        "res_1 is true_val"
      ],
      "metadata": {
        "id": "Qqqv1BtbMbKH",
        "colab": {
          "base_uri": "https://localhost:8080/"
        },
        "outputId": "8038b442-7fd1-4ea2-9e82-35fe404289a2"
      },
      "execution_count": null,
      "outputs": [
        {
          "output_type": "execute_result",
          "data": {
            "text/plain": [
              "False"
            ]
          },
          "metadata": {},
          "execution_count": 27
        }
      ]
    },
    {
      "cell_type": "code",
      "source": [
        "res_1 is not true_val"
      ],
      "metadata": {
        "id": "l0jQnOHOMe5N",
        "colab": {
          "base_uri": "https://localhost:8080/"
        },
        "outputId": "3bb9ae81-b304-4d5d-d725-b9d967dca5d8"
      },
      "execution_count": null,
      "outputs": [
        {
          "output_type": "execute_result",
          "data": {
            "text/plain": [
              "True"
            ]
          },
          "metadata": {},
          "execution_count": 28
        }
      ]
    },
    {
      "cell_type": "code",
      "source": [
        "s, c = True, False \n",
        "conj = s and c\n",
        "conj"
      ],
      "metadata": {
        "id": "J08rbmeTMhbR",
        "colab": {
          "base_uri": "https://localhost:8080/"
        },
        "outputId": "cf249f60-01a3-4203-edf7-0e8c0252de58"
      },
      "execution_count": null,
      "outputs": [
        {
          "output_type": "execute_result",
          "data": {
            "text/plain": [
              "False"
            ]
          },
          "metadata": {},
          "execution_count": 30
        }
      ]
    },
    {
      "cell_type": "code",
      "source": [
        "s, c = True, False \n",
        "disj = s or c\n",
        "disj"
      ],
      "metadata": {
        "id": "7eXxDrjfM7cE",
        "colab": {
          "base_uri": "https://localhost:8080/"
        },
        "outputId": "ea226322-19df-4738-a8c8-f4c0ab9e250f"
      },
      "execution_count": null,
      "outputs": [
        {
          "output_type": "execute_result",
          "data": {
            "text/plain": [
              "True"
            ]
          },
          "metadata": {},
          "execution_count": 32
        }
      ]
    },
    {
      "cell_type": "code",
      "source": [
        "s, c = True, False \n",
        "nand = not(s and c)\n",
        "nand"
      ],
      "metadata": {
        "id": "hdn1K8nJN5CI",
        "colab": {
          "base_uri": "https://localhost:8080/"
        },
        "outputId": "ee7d0580-ceb1-4bc8-c5e9-9512a3950f2f"
      },
      "execution_count": null,
      "outputs": [
        {
          "output_type": "execute_result",
          "data": {
            "text/plain": [
              "True"
            ]
          },
          "metadata": {},
          "execution_count": 33
        }
      ]
    },
    {
      "cell_type": "code",
      "source": [
        "s, C = True, False \n",
        "xor = (not s and c) or (s and not c)\n",
        "xor"
      ],
      "metadata": {
        "id": "eQh1fuPrOBrf",
        "colab": {
          "base_uri": "https://localhost:8080/"
        },
        "outputId": "43f65557-8618-4f4a-a923-54027e66b2d0"
      },
      "execution_count": null,
      "outputs": [
        {
          "output_type": "execute_result",
          "data": {
            "text/plain": [
              "True"
            ]
          },
          "metadata": {},
          "execution_count": 31
        }
      ]
    },
    {
      "cell_type": "markdown",
      "source": [
        "###I/O"
      ],
      "metadata": {
        "id": "pZqhMJVVOlqO"
      }
    },
    {
      "cell_type": "code",
      "source": [
        "print(\"Welcome to Adamson University\")"
      ],
      "metadata": {
        "id": "iTDOQownOodq",
        "colab": {
          "base_uri": "https://localhost:8080/"
        },
        "outputId": "93d08a74-75bc-4e31-d3a9-a2657856397a"
      },
      "execution_count": null,
      "outputs": [
        {
          "output_type": "stream",
          "name": "stdout",
          "text": [
            "Welcome to Adamson University\n"
          ]
        }
      ]
    },
    {
      "cell_type": "code",
      "source": [
        "cnt = 1"
      ],
      "metadata": {
        "id": "VESOedICPHlt"
      },
      "execution_count": null,
      "outputs": []
    },
    {
      "cell_type": "code",
      "source": [
        "string = \"Welcome to Adamson University,\"\n",
        "print(string, \"Current run count is:\", cnt)\n",
        "cnt +=1"
      ],
      "metadata": {
        "id": "9YWlVGj3PJao",
        "colab": {
          "base_uri": "https://localhost:8080/"
        },
        "outputId": "62ce95b5-3aa5-4ec8-b7b0-f73939d2bb96"
      },
      "execution_count": null,
      "outputs": [
        {
          "output_type": "stream",
          "name": "stdout",
          "text": [
            "Welcome to Adamson University, Current run count is: 2\n"
          ]
        }
      ]
    },
    {
      "cell_type": "code",
      "source": [
        "print(f\"{string} Current count is: {cnt}\")"
      ],
      "metadata": {
        "id": "_SU04oU2PV5t",
        "colab": {
          "base_uri": "https://localhost:8080/"
        },
        "outputId": "41f32d4b-4a43-4b97-a8b7-20d4980038e4"
      },
      "execution_count": null,
      "outputs": [
        {
          "output_type": "stream",
          "name": "stdout",
          "text": [
            "Welcome to Adamson University, Current count is: 3\n"
          ]
        }
      ]
    },
    {
      "cell_type": "code",
      "source": [
        "sem_grade = 95.64598321431\n",
        "name = \"Mayel\"\n",
        "print(\"Hello,\", name, \"your semestral grade is:\" ,sem_grade)"
      ],
      "metadata": {
        "id": "TFRTyYivP64z",
        "colab": {
          "base_uri": "https://localhost:8080/"
        },
        "outputId": "6a5293b7-9eef-468e-acd0-5ca54e4dee41"
      },
      "execution_count": null,
      "outputs": [
        {
          "output_type": "stream",
          "name": "stdout",
          "text": [
            "Hello, Mayel your semestral grade is: 95.64598321431\n"
          ]
        }
      ]
    },
    {
      "cell_type": "code",
      "source": [
        "w_pg, w_mg, w_fg = 0.3, 0.3, 0.4\n",
        "print(\"The weights of your semestral grades are:\\\n",
        "\\n\\t{:.2%} for Prelims\\\n",
        "\\n\\t{:.2%} for Midterms\\\n",
        "\\n\\t{:.2%} for Finals\".format(w_pg, w_mg, w_fg))"
      ],
      "metadata": {
        "id": "4LqYPxCg_KAb",
        "colab": {
          "base_uri": "https://localhost:8080/"
        },
        "outputId": "98f2e99c-ef1d-4735-8693-b52650eef46c"
      },
      "execution_count": null,
      "outputs": [
        {
          "output_type": "stream",
          "name": "stdout",
          "text": [
            "The weights of your semestral grades are:\n",
            "\t30.00% for Prelims\n",
            "\t30.00% for Midterms\n",
            "\t40.00% for Finals\n"
          ]
        }
      ]
    },
    {
      "cell_type": "code",
      "source": [
        "x = input(\"Enter a number: \")\n",
        "x"
      ],
      "metadata": {
        "id": "QlpYD41i_8MZ",
        "colab": {
          "base_uri": "https://localhost:8080/",
          "height": 53
        },
        "outputId": "540ee9ae-ae28-489f-91c4-c0db67ebe301"
      },
      "execution_count": null,
      "outputs": [
        {
          "name": "stdout",
          "output_type": "stream",
          "text": [
            "Enter a number: 2001\n"
          ]
        },
        {
          "output_type": "execute_result",
          "data": {
            "application/vnd.google.colaboratory.intrinsic+json": {
              "type": "string"
            },
            "text/plain": [
              "'2001'"
            ]
          },
          "metadata": {},
          "execution_count": 42
        }
      ]
    },
    {
      "cell_type": "code",
      "source": [
        "name = input(\"Input your Name: \")\n",
        "pg = input(\"Enter Prelim Grade: \")\n",
        "mg = input(\"Enter Midterm Grade: \")\n",
        "fg = input(\"Enter Finals Grade: \")\n",
        "sem_grade = 90\n",
        "\n",
        "print(\"Hello {}, your semestral grade is: {}\".format(name, sem_grade))"
      ],
      "metadata": {
        "id": "LS9ASkgSAPG_",
        "colab": {
          "base_uri": "https://localhost:8080/"
        },
        "outputId": "3800cf8c-9130-4fc4-e081-65fa06e4f422"
      },
      "execution_count": null,
      "outputs": [
        {
          "output_type": "stream",
          "name": "stdout",
          "text": [
            "Input your Name: Mayel\n",
            "Enter Prelim Grade: 95\n",
            "Enter Midterm Grade: 94\n",
            "Enter Finals Grade: 93\n",
            "Hello Mayel, your semestral grade is: 90\n"
          ]
        }
      ]
    },
    {
      "cell_type": "markdown",
      "source": [
        "# Looping Statements"
      ],
      "metadata": {
        "id": "Yb2uOinwFC6-"
      }
    },
    {
      "cell_type": "markdown",
      "source": [
        "## While"
      ],
      "metadata": {
        "id": "69Amyen6FIIq"
      }
    },
    {
      "cell_type": "code",
      "source": [
        "## while loops\n",
        "k, j = 0, 10\n",
        "while(k<=j):\n",
        "      print(f\"{k}\\t|\\t{j}\")\n",
        "      k+=1"
      ],
      "metadata": {
        "id": "hyXrZpB1FJd2",
        "colab": {
          "base_uri": "https://localhost:8080/"
        },
        "outputId": "031e8cf8-14a4-491f-8595-c1dfb57ba041"
      },
      "execution_count": null,
      "outputs": [
        {
          "output_type": "stream",
          "name": "stdout",
          "text": [
            "0\t|\t10\n",
            "1\t|\t10\n",
            "2\t|\t10\n",
            "3\t|\t10\n",
            "4\t|\t10\n",
            "5\t|\t10\n",
            "6\t|\t10\n",
            "7\t|\t10\n",
            "8\t|\t10\n",
            "9\t|\t10\n",
            "10\t|\t10\n"
          ]
        }
      ]
    },
    {
      "cell_type": "markdown",
      "source": [
        "## For"
      ],
      "metadata": {
        "id": "sHJKx0SZFb0v"
      }
    },
    {
      "cell_type": "code",
      "source": [
        "# for(int k=0; k<10; k++){\n",
        "# print(k)\n",
        "# }\n",
        "\n",
        "k=0\n",
        "for k in range(11):\n",
        "    print(k)"
      ],
      "metadata": {
        "id": "tgF_9TJSFeFR",
        "colab": {
          "base_uri": "https://localhost:8080/"
        },
        "outputId": "d28e4dac-e511-49e4-9dd8-d53b1c0d1f5e"
      },
      "execution_count": null,
      "outputs": [
        {
          "output_type": "stream",
          "name": "stdout",
          "text": [
            "0\n",
            "1\n",
            "2\n",
            "3\n",
            "4\n",
            "5\n",
            "6\n",
            "7\n",
            "8\n",
            "9\n",
            "10\n"
          ]
        }
      ]
    },
    {
      "cell_type": "code",
      "source": [
        "playlist = [\"Ruby\", \"Heaven's Cloud\", \"What Kind of Future\"]\n",
        "print('Now Playing:\\n')\n",
        "for song in playlist:\n",
        "    print(song)"
      ],
      "metadata": {
        "id": "x9APNYJvHh2r",
        "colab": {
          "base_uri": "https://localhost:8080/"
        },
        "outputId": "228d44ee-1f72-499a-8f89-0825b9053990"
      },
      "execution_count": null,
      "outputs": [
        {
          "output_type": "stream",
          "name": "stdout",
          "text": [
            "Now Playing:\n",
            "\n",
            "Ruby\n",
            "Heaven's Cloud\n",
            "What Kind of Future\n"
          ]
        }
      ]
    },
    {
      "cell_type": "markdown",
      "source": [
        "# Flow Control"
      ],
      "metadata": {
        "id": "RydUPPcNIFM2"
      }
    },
    {
      "cell_type": "markdown",
      "source": [
        "## Condition Statements"
      ],
      "metadata": {
        "id": "uT_tjsoiIJyp"
      }
    },
    {
      "cell_type": "code",
      "source": [
        "num1, num2 = 17, 24\n",
        "if(num1 == num2):\n",
        "    print(\"Yey\")\n",
        "elif(num1 > num2):\n",
        "    print(\"Hoho\")\n",
        "else:\n",
        "    print(\"Aww\")"
      ],
      "metadata": {
        "id": "4KmkwGC6IL32",
        "colab": {
          "base_uri": "https://localhost:8080/"
        },
        "outputId": "bb1e0e20-d406-43cb-bf03-11fdbf6a81c9"
      },
      "execution_count": null,
      "outputs": [
        {
          "output_type": "stream",
          "name": "stdout",
          "text": [
            "Aww\n"
          ]
        }
      ]
    },
    {
      "cell_type": "markdown",
      "source": [
        "# Functions"
      ],
      "metadata": {
        "id": "YEfDQLsEJRfz"
      }
    },
    {
      "cell_type": "code",
      "source": [
        "# void DeleteUser(int userid){\n",
        "#     delete(userid);\n",
        "# }\n",
        "\n",
        "def delete_user (userid):\n",
        "    print(\"Successfully deleted user: {}\".format(userid))\n",
        "  \n",
        "def delete_all_users ():\n",
        "    print(\"Successfully deleted all users\")"
      ],
      "metadata": {
        "id": "7gOx9dRKJU1K"
      },
      "execution_count": null,
      "outputs": []
    },
    {
      "cell_type": "code",
      "source": [
        "userid = 202010151\n",
        "delete_user(202010151)\n",
        "delete_all_users()"
      ],
      "metadata": {
        "id": "Xm7fDGdNKPb-",
        "colab": {
          "base_uri": "https://localhost:8080/"
        },
        "outputId": "a8fd291b-3a19-4fed-d37e-6c8ad31a228a"
      },
      "execution_count": null,
      "outputs": [
        {
          "output_type": "stream",
          "name": "stdout",
          "text": [
            "Successfully deleted user: 202010151\n",
            "Successfully deleted all users\n"
          ]
        }
      ]
    },
    {
      "cell_type": "code",
      "source": [
        "def add(addend1, addend2):\n",
        "    print(\"I know how to add addend1 and addend 2.\")\n",
        "    return addend1 + addend2\n",
        "\n",
        "def power_of_base2(exponent):\n",
        "    return 2**exponent\n",
        "\n",
        "addend1 = 6\n",
        "addend2 = 16\n",
        "\n",
        "exponent = 6\n",
        "\n",
        "#add(addend1, addend2)\n",
        "power_of_base2(exponent)"
      ],
      "metadata": {
        "id": "RbUUeJeXKze5",
        "colab": {
          "base_uri": "https://localhost:8080/"
        },
        "outputId": "e63ddb01-a605-4efc-d08c-18aba9acc49d"
      },
      "execution_count": null,
      "outputs": [
        {
          "output_type": "execute_result",
          "data": {
            "text/plain": [
              "64"
            ]
          },
          "metadata": {},
          "execution_count": 54
        }
      ]
    },
    {
      "cell_type": "markdown",
      "source": [
        "# Grade Calculator"
      ],
      "metadata": {
        "id": "Jif-C-_0yeZ-"
      }
    },
    {
      "cell_type": "code",
      "source": [
        "print(\"Welcome to Adamson University!\");\n",
        "name = input('\\tEnter your Name: ');\n",
        "course = input('\\tEnter your Course: ');\n",
        "prelim = float(input('\\tEnter Prelim grade: '));\n",
        "midterm = float(input('\\tEnter Midterm grade: '));\n",
        "final = float(input('\\tEnter Final grade: '));\n",
        "sem_grade = (prelim*0.30) + (midterm*0.30) + (final*0.40);\n",
        "\n",
        "sem_grade = \"{:.2f}\".format(sem_grade)\n",
        "print(\"\\t______________________________________\");\n",
        "print();\n",
        "print(\"\\tGood Day, \",name);\n",
        "print(\"\\tEnrolled Course: \",course);\n",
        "print();\n",
        "if float(sem_grade) > 70.00:\n",
        "    print(\"\\tYour semestral grade is\", sem_grade, \"\\U0001F600\"); \n",
        "elif float(sem_grade) == 70:\n",
        "    print(\"\\tYour semestral grade is\", sem_grade, \"\\U0001F606\");\n",
        "elif float(sem_grade) < 70:\n",
        "    print(\"\\tYour semestral grade is\", sem_grade, \"\\U0001F62D\")\n",
        "    print();"
      ],
      "metadata": {
        "colab": {
          "base_uri": "https://localhost:8080/"
        },
        "id": "mT9zTUDxyp8a",
        "outputId": "61133cd9-3a36-45ba-b559-769054abc059"
      },
      "execution_count": null,
      "outputs": [
        {
          "output_type": "stream",
          "name": "stdout",
          "text": [
            "Welcome to Adamson University!\n",
            "\tEnter your Name: Maryel\n",
            "\tEnter your Course: B.S. ChE\n",
            "\tEnter Prelim grade: 90\n",
            "\tEnter Midterm grade: 91\n",
            "\tEnter Final grade: 92\n",
            "\t______________________________________\n",
            "\n",
            "\tGood Day,  Maryel\n",
            "\tEnrolled Course:  B.S. ChE\n",
            "\n",
            "\tYour semestral grade is 91.10 😀\n"
          ]
        }
      ]
    }
  ]
}