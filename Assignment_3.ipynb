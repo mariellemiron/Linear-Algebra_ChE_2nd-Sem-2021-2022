{
  "nbformat": 4,
  "nbformat_minor": 0,
  "metadata": {
    "colab": {
      "name": "Assignment 3 ",
      "provenance": [],
      "authorship_tag": "ABX9TyOo6GwekGHadriPbLdDbmN8",
      "include_colab_link": true
    },
    "kernelspec": {
      "name": "python3",
      "display_name": "Python 3"
    },
    "language_info": {
      "name": "python"
    }
  },
  "cells": [
    {
      "cell_type": "markdown",
      "metadata": {
        "id": "view-in-github",
        "colab_type": "text"
      },
      "source": [
        "<a href=\"https://colab.research.google.com/github/mariellemiron/Linear-Algebra_ChE_2nd-Sem-2021-2022/blob/main/Assignment_3.ipynb\" target=\"_parent\"><img src=\"https://colab.research.google.com/assets/colab-badge.svg\" alt=\"Open In Colab\"/></a>"
      ]
    },
    {
      "cell_type": "markdown",
      "source": [
        "# Linear Algebra for ChE\n",
        "## Assignment 3 : Matrices"
      ],
      "metadata": {
        "id": "EozcvTBJLIYn"
      }
    },
    {
      "cell_type": "markdown",
      "source": [
        "## Objectives\n",
        "At the end of this laboratory activity,the students will be able to:\n",
        "1. Familiarize the properties of matrix and apply it in writing and working with linear equations.\n",
        "2. Perform basic matrix operations and classify matrices according to shape and element values.\n",
        "3. Represent equations in matrices using the Python programming.\n"
      ],
      "metadata": {
        "id": "I56Itr2CKnK4"
      }
    },
    {
      "cell_type": "markdown",
      "source": [
        "# Discussion"
      ],
      "metadata": {
        "id": "hBxaVB2jK9gv"
      }
    },
    {
      "cell_type": "code",
      "source": [
        "import numpy as np\n",
        "import matplotlib.pyplot as plt\n",
        "import scipy.linalg as la\n",
        "%matplotlib inline"
      ],
      "metadata": {
        "id": "l2a0CWt1K6VG"
      },
      "execution_count": 89,
      "outputs": []
    },
    {
      "cell_type": "markdown",
      "source": [
        "## Matrices\n"
      ],
      "metadata": {
        "id": "mADZZNviLRzw"
      }
    },
    {
      "cell_type": "markdown",
      "source": [
        "Matrices is a rectangular collection of elements or array, arranged in rows and columns. The horizontal and vertical line entries in a matrix are called as rows and columns, represented by *m* and *n* in an *m* *x* *n* matrix."
      ],
      "metadata": {
        "id": "fqGtv1k6LxhW"
      }
    },
    {
      "cell_type": "markdown",
      "source": [
        "Let's say we have the equation ***A***, ***B***, and ***C***"
      ],
      "metadata": {
        "id": "84G2ubL4McEa"
      }
    },
    {
      "cell_type": "markdown",
      "source": [
        "$$\n",
        "A = \\left\\{\n",
        "    \\begin{array}\\\n",
        "        x + y \\\\ \n",
        "        8x - 14y\n",
        "    \\end{array}\n",
        "\\right. \\\\\n",
        "B = \\left\\{\n",
        "    \\begin{array}\\\n",
        "        x+y+z \\\\ \n",
        "        8x -14y -z \\\\\n",
        "        -x + 8y +14z\n",
        "    \\end{array}\n",
        "\\right. \\\\\n",
        "C= \\left\\{\n",
        "    \\begin{array}\n",
        "         1w - 1x + 14y -35z \\\\ \n",
        "         3w + 8x - 11y + z \\\\\n",
        "         2w - 8x + 2y -2z\n",
        "    \\end{array}\n",
        "\\right. \\\\\n",
        "$$\n",
        "\n"
      ],
      "metadata": {
        "id": "BetaMCmfLzcZ"
      }
    },
    {
      "cell_type": "markdown",
      "source": [
        "*A* is a system of 2 equations with 2 parameters. While *B* is a system of 3 equations with 3 parameters and *C* is a system of 4 equations with 4 parameters. We can represent them in matrices as:"
      ],
      "metadata": {
        "id": "e85jABarO297"
      }
    },
    {
      "cell_type": "markdown",
      "source": [
        "$$\n",
        "A=\\begin{bmatrix} 1 & 1 \\\\ 8 & {-14}\\end{bmatrix} \\\\\n",
        "B=\\begin{bmatrix} 1 & 1 & 1 \\\\ 8 & -14 & -1 \\\\ -1 & 8 & 14\\end{bmatrix}\\\\\n",
        "C=\\begin{bmatrix} 1 & -1 & 14 & -35 \\\\ 3 & 8 & -11 & 1 \\\\ 2 & -8 & 2 & -2 \\end{bmatrix}\\\\\n",
        "$$\n"
      ],
      "metadata": {
        "id": "6PXWG6TVOW3o"
      }
    },
    {
      "cell_type": "markdown",
      "source": [
        "## Declaring Matrices"
      ],
      "metadata": {
        "id": "vTjX9pTMPsj-"
      }
    },
    {
      "cell_type": "markdown",
      "source": [
        "The numbers in matrices are called the elements of a matrix, arranged in rows and columns that form the array-like structure. These elements are indexed according to their position with respect to their rows and columns. From the equation below, *A* is a matrix consisting of elements denoted as *ai*,*j*. The *i* is the number of rows in the matrix while *j* is the number of columns."
      ],
      "metadata": {
        "id": "c9E1gbgmP2_2"
      }
    },
    {
      "cell_type": "markdown",
      "source": [
        "$$\n",
        "A=\\begin{bmatrix}\n",
        "a_{(0,0)}&a_{(0,1)}&\\dots&a_{(0,j-1)}\\\\\n",
        "a_{(1,0)}&a_{(1,1)}&\\dots&a_{(1,j-1)}\\\\\n",
        "\\vdots&\\vdots&\\ddots&\\vdots&\\\\\n",
        "a_{(i-1,0)}&a_{(i-1,1)}&\\dots&a_{(i-1,j-1)}\n",
        "\\end{bmatrix}\n",
        "$$\n"
      ],
      "metadata": {
        "id": "hCLFPxvTQOKT"
      }
    },
    {
      "cell_type": "code",
      "source": [
        "## Since we'll keep on decribing matrices. Let's make a function.\n",
        "def describe_mat(matrix):\n",
        "    print(f'Matrix:\\n{matrix}\\n\\nShape:\\t{matrix.shape}\\nRank:\\t{matrix.ndim}\\n')"
      ],
      "metadata": {
        "id": "inEz5N4RQYFD"
      },
      "execution_count": 91,
      "outputs": []
    },
    {
      "cell_type": "code",
      "source": [
        "## Declaring a 2 x 2 matrix\n",
        "A = np.array([\n",
        "    [8, 7],\n",
        "    [6, 8]\n",
        "])\n",
        "describe_mat(A)"
      ],
      "metadata": {
        "colab": {
          "base_uri": "https://localhost:8080/"
        },
        "id": "BzzSkKTJQ2CS",
        "outputId": "f32ac3dc-93ee-47b2-fd2b-1ec6fcd3b2a5"
      },
      "execution_count": 92,
      "outputs": [
        {
          "output_type": "stream",
          "name": "stdout",
          "text": [
            "Matrix:\n",
            "[[8 7]\n",
            " [6 8]]\n",
            "\n",
            "Shape:\t(2, 2)\n",
            "Rank:\t2\n",
            "\n"
          ]
        }
      ]
    },
    {
      "cell_type": "code",
      "source": [
        "G = np.array([\n",
        "    [8,8,6],\n",
        "    [4,4,7]\n",
        "])\n",
        "describe_mat(G)"
      ],
      "metadata": {
        "colab": {
          "base_uri": "https://localhost:8080/"
        },
        "id": "wlvlbFqpRZ7M",
        "outputId": "6810ec79-59fe-4066-d777-b374b493952f"
      },
      "execution_count": 93,
      "outputs": [
        {
          "output_type": "stream",
          "name": "stdout",
          "text": [
            "Matrix:\n",
            "[[8 8 6]\n",
            " [4 4 7]]\n",
            "\n",
            "Shape:\t(2, 3)\n",
            "Rank:\t2\n",
            "\n"
          ]
        }
      ]
    },
    {
      "cell_type": "code",
      "source": [
        "## Declaring a 3 x 2 matrix\n",
        "B = np.array([\n",
        "    [9, 2],\n",
        "    [6, 5],\n",
        "    [4, 4]\n",
        "])\n",
        "describe_mat(B)"
      ],
      "metadata": {
        "colab": {
          "base_uri": "https://localhost:8080/"
        },
        "id": "ZVrxXWlVSSkM",
        "outputId": "ef631f37-8f72-468c-c43b-057adfe515d0"
      },
      "execution_count": 95,
      "outputs": [
        {
          "output_type": "stream",
          "name": "stdout",
          "text": [
            "Matrix:\n",
            "[[9 2]\n",
            " [6 5]\n",
            " [4 4]]\n",
            "\n",
            "Shape:\t(3, 2)\n",
            "Rank:\t2\n",
            "\n"
          ]
        }
      ]
    },
    {
      "cell_type": "code",
      "source": [
        "H = np.array([16,17,18,19])\n",
        "describe_mat(H)"
      ],
      "metadata": {
        "colab": {
          "base_uri": "https://localhost:8080/"
        },
        "id": "6UBMR_MySX8L",
        "outputId": "087d80e4-3c51-411a-cb29-0ffd452cd315"
      },
      "execution_count": 96,
      "outputs": [
        {
          "output_type": "stream",
          "name": "stdout",
          "text": [
            "Matrix:\n",
            "[16 17 18 19]\n",
            "\n",
            "Shape:\t(4,)\n",
            "Rank:\t1\n",
            "\n"
          ]
        }
      ]
    },
    {
      "cell_type": "markdown",
      "source": [
        "## Categorizing Matrices"
      ],
      "metadata": {
        "id": "KQyadYDFSpeI"
      }
    },
    {
      "cell_type": "markdown",
      "source": [
        "Classifying matrices could be according to their **shape** and another is according to their **element values**. "
      ],
      "metadata": {
        "id": "bL1Ms6F1TOS9"
      }
    },
    {
      "cell_type": "markdown",
      "source": [
        "### According to shape"
      ],
      "metadata": {
        "id": "17E8quP9Tdq9"
      }
    },
    {
      "cell_type": "markdown",
      "source": [
        "#### Row and Column Matrices"
      ],
      "metadata": {
        "id": "-PfyMuIOT1LA"
      }
    },
    {
      "cell_type": "markdown",
      "source": [
        "A row vector (or, row matrix) is a 1-by-*n* matrix. While a column vector (or, column matrix) is a *n*-by-1 matrix. "
      ],
      "metadata": {
        "id": "iQDFzdWyqrLa"
      }
    },
    {
      "cell_type": "code",
      "source": [
        "## Declaring a Row Matrix\n",
        "\n",
        "row_mat_1D = np.array([\n",
        "    [4, 5, 6, -7]\n",
        "]) \n",
        "## this is a 1-D Matrix with a shape of (3,), it's not really considered as a row matrix.\n",
        "row_mat_2D = np.array([\n",
        "    [4, 5, 6, -7]\n",
        "]) \n",
        "## this is a 2-D Matrix with a shape of (1,3)\n",
        "describe_mat(row_mat_1D)\n",
        "describe_mat(row_mat_2D)\n"
      ],
      "metadata": {
        "colab": {
          "base_uri": "https://localhost:8080/"
        },
        "id": "1Ik-vowWTgd_",
        "outputId": "27f49acc-befe-4bc7-a379-14de3ad3a1c1"
      },
      "execution_count": 97,
      "outputs": [
        {
          "output_type": "stream",
          "name": "stdout",
          "text": [
            "Matrix:\n",
            "[[ 4  5  6 -7]]\n",
            "\n",
            "Shape:\t(1, 4)\n",
            "Rank:\t2\n",
            "\n",
            "Matrix:\n",
            "[[ 4  5  6 -7]]\n",
            "\n",
            "Shape:\t(1, 4)\n",
            "Rank:\t2\n",
            "\n"
          ]
        }
      ]
    },
    {
      "cell_type": "code",
      "source": [
        "## Declaring a Row Matrix\n",
        "col_mat = np.array([\n",
        "    [11],\n",
        "    [22],\n",
        "    [55]\n",
        "]) ## this is a 2-D Matrix with a shape of (3,1)\n",
        "describe_mat(col_mat)"
      ],
      "metadata": {
        "colab": {
          "base_uri": "https://localhost:8080/"
        },
        "id": "MM27g1asUj7-",
        "outputId": "891ce0e4-9e3b-4921-a07b-68f4f7cc1af8"
      },
      "execution_count": 98,
      "outputs": [
        {
          "output_type": "stream",
          "name": "stdout",
          "text": [
            "Matrix:\n",
            "[[11]\n",
            " [22]\n",
            " [55]]\n",
            "\n",
            "Shape:\t(3, 1)\n",
            "Rank:\t2\n",
            "\n"
          ]
        }
      ]
    },
    {
      "cell_type": "markdown",
      "source": [
        "#### Square Matrix\n"
      ],
      "metadata": {
        "id": "QoVqafwiUrf_"
      }
    },
    {
      "cell_type": "markdown",
      "source": [
        "Square matrix is a matrix that has equal numbers of row and column sizes. "
      ],
      "metadata": {
        "id": "fZu5CMAdVMZO"
      }
    },
    {
      "cell_type": "code",
      "source": [
        "def describe_mat(matrix):\n",
        "    is_square = True if matrix.shape[0] == matrix.shape[1] else False \n",
        "    print(f'Matrix:\\n{matrix}\\n\\nShape:\\t{matrix.shape}\\nRank:\\t{matrix.ndim}\\nIs Square: {is_square}\\n')"
      ],
      "metadata": {
        "id": "ZJ96_o82VTLR"
      },
      "execution_count": 99,
      "outputs": []
    },
    {
      "cell_type": "code",
      "source": [
        "square_mat = np.array([\n",
        "    [4,8,9],\n",
        "    [6,6,7],\n",
        "    [6,1,2]\n",
        "])\n",
        "\n",
        "non_square_mat = np.array([\n",
        "    [4,8,9],\n",
        "    [6,6,7]\n",
        "])\n",
        "describe_mat(square_mat)\n",
        "describe_mat(non_square_mat)"
      ],
      "metadata": {
        "colab": {
          "base_uri": "https://localhost:8080/"
        },
        "id": "caZivsrTVXrM",
        "outputId": "91018504-3b06-4925-ab5e-e2011690c354"
      },
      "execution_count": 100,
      "outputs": [
        {
          "output_type": "stream",
          "name": "stdout",
          "text": [
            "Matrix:\n",
            "[[4 8 9]\n",
            " [6 6 7]\n",
            " [6 1 2]]\n",
            "\n",
            "Shape:\t(3, 3)\n",
            "Rank:\t2\n",
            "Is Square: True\n",
            "\n",
            "Matrix:\n",
            "[[4 8 9]\n",
            " [6 6 7]]\n",
            "\n",
            "Shape:\t(2, 3)\n",
            "Rank:\t2\n",
            "Is Square: False\n",
            "\n"
          ]
        }
      ]
    },
    {
      "cell_type": "markdown",
      "source": [
        "### According to element values"
      ],
      "metadata": {
        "id": "cxhB2SDjWK8a"
      }
    },
    {
      "cell_type": "markdown",
      "source": [
        "#### Null Matrix"
      ],
      "metadata": {
        "id": "shW6UptQWNT7"
      }
    },
    {
      "cell_type": "markdown",
      "source": [
        "Null Matrix is a matrix that has no elements."
      ],
      "metadata": {
        "id": "W3O1MBJRWOz2"
      }
    },
    {
      "cell_type": "code",
      "source": [
        "def describe_mat(matrix):\n",
        "    if matrix.size > 0:\n",
        "        is_square = True if matrix.shape[0] == matrix.shape[1] else False \n",
        "        print(f'Matrix:\\n{matrix}\\n\\nShape:\\t{matrix.shape}\\nRank:\\t{matrix.ndim}\\nIs Square: {is_square}\\n')\n",
        "    else:\n",
        "        print('Matrix is Null')"
      ],
      "metadata": {
        "id": "QoyONaKBWS5s"
      },
      "execution_count": 101,
      "outputs": []
    },
    {
      "cell_type": "code",
      "source": [
        "null_mat = np.array([])\n",
        "describe_mat(null_mat)"
      ],
      "metadata": {
        "colab": {
          "base_uri": "https://localhost:8080/"
        },
        "id": "x9KjgW1GWatR",
        "outputId": "73297979-81d8-41a9-995c-937983beef19"
      },
      "execution_count": null,
      "outputs": [
        {
          "output_type": "stream",
          "name": "stdout",
          "text": [
            "Matrix is Null\n"
          ]
        }
      ]
    },
    {
      "cell_type": "markdown",
      "source": [
        "#### Zero Matrix"
      ],
      "metadata": {
        "id": "Oh9Avi95Wjz1"
      }
    },
    {
      "cell_type": "markdown",
      "source": [
        "Zero matrix is a matrix whose all elements is zero."
      ],
      "metadata": {
        "id": "J6IomQ-cWvLj"
      }
    },
    {
      "cell_type": "code",
      "source": [
        "zero_mat_row = np.zeros((1,2))\n",
        "zero_mat_sqr = np.zeros((2,2))\n",
        "zero_mat_rct = np.zeros((3,2))\n",
        "\n",
        "print(f'Zero Row Matrix: \\n{zero_mat_row}')\n",
        "print(f'Zero Square Matrix: \\n{zero_mat_sqr}')\n",
        "print(f'Zero Rectangular Matrix: \\n{zero_mat_rct}')"
      ],
      "metadata": {
        "colab": {
          "base_uri": "https://localhost:8080/"
        },
        "id": "GNca4RgPWuK3",
        "outputId": "0b80f546-9f67-4a87-ec1c-8d937189c5ca"
      },
      "execution_count": 102,
      "outputs": [
        {
          "output_type": "stream",
          "name": "stdout",
          "text": [
            "Zero Row Matrix: \n",
            "[[0. 0.]]\n",
            "Zero Square Matrix: \n",
            "[[0. 0.]\n",
            " [0. 0.]]\n",
            "Zero Rectangular Matrix: \n",
            "[[0. 0.]\n",
            " [0. 0.]\n",
            " [0. 0.]]\n"
          ]
        }
      ]
    },
    {
      "cell_type": "markdown",
      "source": [
        "#### Ones Matrix"
      ],
      "metadata": {
        "id": "cglXgMe-X7fj"
      }
    },
    {
      "cell_type": "markdown",
      "source": [
        "Ones matrix is a matrix whose all elements is one."
      ],
      "metadata": {
        "id": "Umv3vTa1X96x"
      }
    },
    {
      "cell_type": "code",
      "source": [
        "ones_mat_row = np.ones((1,2))\n",
        "ones_mat_sqr = np.ones((2,2))\n",
        "ones_mat_rct = np.ones((3,2))\n",
        "\n",
        "print(f'Ones Row Matrix: \\n{ones_mat_row}')\n",
        "print(f'Ones Square Matrix: \\n{ones_mat_sqr}')\n",
        "print(f'Ones Rectangular Matrix: \\n{ones_mat_rct}')"
      ],
      "metadata": {
        "colab": {
          "base_uri": "https://localhost:8080/"
        },
        "id": "SxUyuleyYASU",
        "outputId": "4ada9ea1-bf08-4e5d-bdd7-ef22b0dc9171"
      },
      "execution_count": 103,
      "outputs": [
        {
          "output_type": "stream",
          "name": "stdout",
          "text": [
            "Ones Row Matrix: \n",
            "[[1. 1.]]\n",
            "Ones Square Matrix: \n",
            "[[1. 1.]\n",
            " [1. 1.]]\n",
            "Ones Rectangular Matrix: \n",
            "[[1. 1.]\n",
            " [1. 1.]\n",
            " [1. 1.]]\n"
          ]
        }
      ]
    },
    {
      "cell_type": "markdown",
      "source": [
        "#### Diagonal Matrix"
      ],
      "metadata": {
        "id": "JWuKohGGYDbm"
      }
    },
    {
      "cell_type": "markdown",
      "source": [
        "Diagonal Matrix is a square matrix whose all elements is zero except for those in the diagonal. "
      ],
      "metadata": {
        "id": "ApiNLZictjqQ"
      }
    },
    {
      "cell_type": "code",
      "source": [
        "np.array([\n",
        "    [4,1,1],\n",
        "    [1,6,1],\n",
        "    [1,1,8]\n",
        "])"
      ],
      "metadata": {
        "colab": {
          "base_uri": "https://localhost:8080/"
        },
        "id": "oxyMTl4SYXHx",
        "outputId": "879b670b-0834-4a1b-fd94-43a315281d0e"
      },
      "execution_count": 104,
      "outputs": [
        {
          "output_type": "execute_result",
          "data": {
            "text/plain": [
              "array([[4, 1, 1],\n",
              "       [1, 6, 1],\n",
              "       [1, 1, 8]])"
            ]
          },
          "metadata": {},
          "execution_count": 104
        }
      ]
    },
    {
      "cell_type": "code",
      "source": [
        "d = np.diag([22,33,55,77])\n",
        "#d.shape[0] == d.shape[1]\n",
        "d"
      ],
      "metadata": {
        "colab": {
          "base_uri": "https://localhost:8080/"
        },
        "id": "mXIRrI3CYZ0v",
        "outputId": "f6c75126-81a6-4d48-f0f7-548f6982fbd4"
      },
      "execution_count": 105,
      "outputs": [
        {
          "output_type": "execute_result",
          "data": {
            "text/plain": [
              "array([[22,  0,  0,  0],\n",
              "       [ 0, 33,  0,  0],\n",
              "       [ 0,  0, 55,  0],\n",
              "       [ 0,  0,  0, 77]])"
            ]
          },
          "metadata": {},
          "execution_count": 105
        }
      ]
    },
    {
      "cell_type": "markdown",
      "source": [
        "#### Identity Matrix"
      ],
      "metadata": {
        "id": "1dnNktDzYu9k"
      }
    },
    {
      "cell_type": "markdown",
      "source": [
        "Identity matrix is a diagonal matrix in which the values at the diagonal are one."
      ],
      "metadata": {
        "id": "aLE-dtZ5YyRF"
      }
    },
    {
      "cell_type": "code",
      "source": [
        "np.eye(3)"
      ],
      "metadata": {
        "colab": {
          "base_uri": "https://localhost:8080/"
        },
        "id": "mNn-QLYnY2fY",
        "outputId": "7f43083b-9c90-4feb-cdd9-48877c1fa7c3"
      },
      "execution_count": 106,
      "outputs": [
        {
          "output_type": "execute_result",
          "data": {
            "text/plain": [
              "array([[1., 0., 0.],\n",
              "       [0., 1., 0.],\n",
              "       [0., 0., 1.]])"
            ]
          },
          "metadata": {},
          "execution_count": 106
        }
      ]
    },
    {
      "cell_type": "code",
      "source": [
        "np.identity(10)"
      ],
      "metadata": {
        "colab": {
          "base_uri": "https://localhost:8080/"
        },
        "id": "161YFusmY9Xq",
        "outputId": "4fa871e8-d274-4b00-8494-943ddf1dacab"
      },
      "execution_count": 107,
      "outputs": [
        {
          "output_type": "execute_result",
          "data": {
            "text/plain": [
              "array([[1., 0., 0., 0., 0., 0., 0., 0., 0., 0.],\n",
              "       [0., 1., 0., 0., 0., 0., 0., 0., 0., 0.],\n",
              "       [0., 0., 1., 0., 0., 0., 0., 0., 0., 0.],\n",
              "       [0., 0., 0., 1., 0., 0., 0., 0., 0., 0.],\n",
              "       [0., 0., 0., 0., 1., 0., 0., 0., 0., 0.],\n",
              "       [0., 0., 0., 0., 0., 1., 0., 0., 0., 0.],\n",
              "       [0., 0., 0., 0., 0., 0., 1., 0., 0., 0.],\n",
              "       [0., 0., 0., 0., 0., 0., 0., 1., 0., 0.],\n",
              "       [0., 0., 0., 0., 0., 0., 0., 0., 1., 0.],\n",
              "       [0., 0., 0., 0., 0., 0., 0., 0., 0., 1.]])"
            ]
          },
          "metadata": {},
          "execution_count": 107
        }
      ]
    },
    {
      "cell_type": "markdown",
      "source": [
        "#### Upper Triangular Matrix"
      ],
      "metadata": {
        "id": "gP9wZUBOZNqU"
      }
    },
    {
      "cell_type": "markdown",
      "source": [
        "Upper Triangular Matrix has a values of zero below the diagonal of the matrix.  "
      ],
      "metadata": {
        "id": "oU-Vs6djZQxI"
      }
    },
    {
      "cell_type": "code",
      "source": [
        "np.array([\n",
        "    [1,2,3,4],\n",
        "    [0,3,1,-1],\n",
        "    [0,0,5,2],\n",
        "    [0,0,0,2]\n",
        "])\n"
      ],
      "metadata": {
        "colab": {
          "base_uri": "https://localhost:8080/"
        },
        "id": "wR-tjPUlZTZY",
        "outputId": "58f36699-d9aa-4aee-b784-f8117813a180"
      },
      "execution_count": 108,
      "outputs": [
        {
          "output_type": "execute_result",
          "data": {
            "text/plain": [
              "array([[ 1,  2,  3,  4],\n",
              "       [ 0,  3,  1, -1],\n",
              "       [ 0,  0,  5,  2],\n",
              "       [ 0,  0,  0,  2]])"
            ]
          },
          "metadata": {},
          "execution_count": 108
        }
      ]
    },
    {
      "cell_type": "code",
      "source": [
        "F = np.array([\n",
        "              [4,-7,8,-9,10],\n",
        "              [4,-7,8,-9,10],\n",
        "              [4,-7,8,-9,10],\n",
        "              [4,-7,8,-9,10],\n",
        "              [4,-7,8,-9,10],\n",
        "])\n",
        "np.triu(F)"
      ],
      "metadata": {
        "colab": {
          "base_uri": "https://localhost:8080/"
        },
        "id": "qZeAEd64Zcxc",
        "outputId": "da451206-f6d1-4cf4-e62d-5943c4bacaa7"
      },
      "execution_count": 109,
      "outputs": [
        {
          "output_type": "execute_result",
          "data": {
            "text/plain": [
              "array([[ 4, -7,  8, -9, 10],\n",
              "       [ 0, -7,  8, -9, 10],\n",
              "       [ 0,  0,  8, -9, 10],\n",
              "       [ 0,  0,  0, -9, 10],\n",
              "       [ 0,  0,  0,  0, 10]])"
            ]
          },
          "metadata": {},
          "execution_count": 109
        }
      ]
    },
    {
      "cell_type": "markdown",
      "source": [
        "#### Lower Triangular Matrix"
      ],
      "metadata": {
        "id": "yEemO5zdZzdP"
      }
    },
    {
      "cell_type": "markdown",
      "source": [
        "Lower Triangular Matrix has a values of zero above the diagonal of the matrix."
      ],
      "metadata": {
        "id": "amuVxqT1Z2TU"
      }
    },
    {
      "cell_type": "code",
      "source": [
        "np.array([\n",
        "          [4,1,1],\n",
        "          [6,4,1],\n",
        "          [8,9,3]\n",
        "])"
      ],
      "metadata": {
        "colab": {
          "base_uri": "https://localhost:8080/"
        },
        "id": "CHVGv-hYaSx-",
        "outputId": "babf4004-610a-41fe-9c05-94cb40419a59"
      },
      "execution_count": 110,
      "outputs": [
        {
          "output_type": "execute_result",
          "data": {
            "text/plain": [
              "array([[4, 1, 1],\n",
              "       [6, 4, 1],\n",
              "       [8, 9, 3]])"
            ]
          },
          "metadata": {},
          "execution_count": 110
        }
      ]
    },
    {
      "cell_type": "code",
      "source": [
        "np.tril(F)"
      ],
      "metadata": {
        "colab": {
          "base_uri": "https://localhost:8080/"
        },
        "id": "1XHG8EqiZ2jG",
        "outputId": "89f77998-9c1f-4589-ec98-cf3c39867184"
      },
      "execution_count": 111,
      "outputs": [
        {
          "output_type": "execute_result",
          "data": {
            "text/plain": [
              "array([[ 4,  0,  0,  0,  0],\n",
              "       [ 4, -7,  0,  0,  0],\n",
              "       [ 4, -7,  8,  0,  0],\n",
              "       [ 4, -7,  8, -9,  0],\n",
              "       [ 4, -7,  8, -9, 10]])"
            ]
          },
          "metadata": {},
          "execution_count": 111
        }
      ]
    },
    {
      "cell_type": "markdown",
      "source": [
        "## Matrix Algebra"
      ],
      "metadata": {
        "id": "JyADHt_FbZOo"
      }
    },
    {
      "cell_type": "markdown",
      "source": [
        "### Addition"
      ],
      "metadata": {
        "id": "PTA4tJERbcfh"
      }
    },
    {
      "cell_type": "code",
      "source": [
        "A = np.array([\n",
        "    [8,4],\n",
        "    [6,7],\n",
        "    [5,6]\n",
        "])\n",
        "B = np.array([\n",
        "    [8,8],\n",
        "    [1,1],\n",
        "    [6,6]\n",
        "])\n",
        "A+B"
      ],
      "metadata": {
        "id": "gaBPGr5Dbb16",
        "colab": {
          "base_uri": "https://localhost:8080/"
        },
        "outputId": "9f7a6198-dd1e-43d1-cc35-ac6018283b94"
      },
      "execution_count": 112,
      "outputs": [
        {
          "output_type": "execute_result",
          "data": {
            "text/plain": [
              "array([[16, 12],\n",
              "       [ 7,  8],\n",
              "       [11, 12]])"
            ]
          },
          "metadata": {},
          "execution_count": 112
        }
      ]
    },
    {
      "cell_type": "code",
      "source": [
        "4+A"
      ],
      "metadata": {
        "colab": {
          "base_uri": "https://localhost:8080/"
        },
        "id": "S8CFX6wbku9L",
        "outputId": "653f30d0-842d-4c25-fe17-9149cd552f6f"
      },
      "execution_count": null,
      "outputs": [
        {
          "output_type": "execute_result",
          "data": {
            "text/plain": [
              "array([[12,  8],\n",
              "       [10, 11],\n",
              "       [ 9, 10]])"
            ]
          },
          "metadata": {},
          "execution_count": 133
        }
      ]
    },
    {
      "cell_type": "markdown",
      "source": [
        "### Subtraction"
      ],
      "metadata": {
        "id": "Se61wE23bo0P"
      }
    },
    {
      "cell_type": "code",
      "source": [
        "A-B"
      ],
      "metadata": {
        "id": "Js3kAeFlbsZF",
        "colab": {
          "base_uri": "https://localhost:8080/"
        },
        "outputId": "f8bf4f02-d9f0-4366-9112-1eee5c997ad9"
      },
      "execution_count": 113,
      "outputs": [
        {
          "output_type": "execute_result",
          "data": {
            "text/plain": [
              "array([[ 0, -4],\n",
              "       [ 5,  6],\n",
              "       [-1,  0]])"
            ]
          },
          "metadata": {},
          "execution_count": 113
        }
      ]
    },
    {
      "cell_type": "code",
      "source": [
        "5-B"
      ],
      "metadata": {
        "colab": {
          "base_uri": "https://localhost:8080/"
        },
        "id": "uDsZuwKFkyGg",
        "outputId": "ed495bcb-7110-4144-9a01-dbc116841c9d"
      },
      "execution_count": null,
      "outputs": [
        {
          "output_type": "execute_result",
          "data": {
            "text/plain": [
              "array([[-3, -3],\n",
              "       [ 4,  4],\n",
              "       [-1, -1]])"
            ]
          },
          "metadata": {},
          "execution_count": 134
        }
      ]
    },
    {
      "cell_type": "markdown",
      "source": [
        "### Element-wise Multiplication"
      ],
      "metadata": {
        "id": "GjE4PYehbtAM"
      }
    },
    {
      "cell_type": "code",
      "source": [
        "A*B\n",
        "np.multiply(A,B)"
      ],
      "metadata": {
        "id": "UzXYCi_nb0_q",
        "colab": {
          "base_uri": "https://localhost:8080/"
        },
        "outputId": "57a16b25-3b7b-4657-b598-e0f6de77096d"
      },
      "execution_count": 114,
      "outputs": [
        {
          "output_type": "execute_result",
          "data": {
            "text/plain": [
              "array([[64, 32],\n",
              "       [ 6,  7],\n",
              "       [30, 36]])"
            ]
          },
          "metadata": {},
          "execution_count": 114
        }
      ]
    },
    {
      "cell_type": "code",
      "source": [
        "2*A"
      ],
      "metadata": {
        "colab": {
          "base_uri": "https://localhost:8080/"
        },
        "id": "eNiORqA-jAdL",
        "outputId": "f650576b-56c3-48a7-c9c6-2b4dcbc7f0df"
      },
      "execution_count": 115,
      "outputs": [
        {
          "output_type": "execute_result",
          "data": {
            "text/plain": [
              "array([[16,  8],\n",
              "       [12, 14],\n",
              "       [10, 12]])"
            ]
          },
          "metadata": {},
          "execution_count": 115
        }
      ]
    },
    {
      "cell_type": "code",
      "source": [
        "alpha=10**-10\n",
        "A/(alpha+B)"
      ],
      "metadata": {
        "colab": {
          "base_uri": "https://localhost:8080/"
        },
        "id": "KoQWrcD6jFgC",
        "outputId": "02b451e1-95d6-4568-dc6c-62d08570c9c6"
      },
      "execution_count": null,
      "outputs": [
        {
          "output_type": "execute_result",
          "data": {
            "text/plain": [
              "array([[1.        , 0.5       ],\n",
              "       [6.        , 7.        ],\n",
              "       [0.83333333, 1.        ]])"
            ]
          },
          "metadata": {},
          "execution_count": 132
        }
      ]
    },
    {
      "cell_type": "code",
      "source": [
        "M = np.array([\n",
        "    [8,4],\n",
        "    [6,7],\n",
        "    [5,6]\n",
        "])\n",
        "N = np.array([\n",
        "    [8,8,5],\n",
        "    [1,1,6],\n",
        "])\n",
        "M@N"
      ],
      "metadata": {
        "colab": {
          "base_uri": "https://localhost:8080/"
        },
        "id": "NYTYF6K-lFAL",
        "outputId": "4ef9c50f-e7d1-4176-9584-28eb0bbf1825"
      },
      "execution_count": 116,
      "outputs": [
        {
          "output_type": "execute_result",
          "data": {
            "text/plain": [
              "array([[68, 68, 64],\n",
              "       [55, 55, 72],\n",
              "       [46, 46, 61]])"
            ]
          },
          "metadata": {},
          "execution_count": 116
        }
      ]
    },
    {
      "cell_type": "code",
      "source": [
        "np.add(A,B)"
      ],
      "metadata": {
        "colab": {
          "base_uri": "https://localhost:8080/"
        },
        "id": "f7a3bzyIjHGE",
        "outputId": "f83f2600-a1c9-4459-d1cf-56944b280d93"
      },
      "execution_count": 117,
      "outputs": [
        {
          "output_type": "execute_result",
          "data": {
            "text/plain": [
              "array([[16, 12],\n",
              "       [ 7,  8],\n",
              "       [11, 12]])"
            ]
          },
          "metadata": {},
          "execution_count": 117
        }
      ]
    },
    {
      "cell_type": "markdown",
      "source": [
        "#Practice"
      ],
      "metadata": {
        "id": "PRRsaUgngjZQ"
      }
    },
    {
      "cell_type": "markdown",
      "source": [
        "1. Given the linear combination below, try to create a corresponding matrix representing it."
      ],
      "metadata": {
        "id": "ViTvA3qqgl_T"
      }
    },
    {
      "cell_type": "markdown",
      "source": [
        "$$\\theta = 5x + 3y - z$$"
      ],
      "metadata": {
        "id": "5-aTEhq5hVJ7"
      }
    },
    {
      "cell_type": "code",
      "source": [
        "num_1 = np.array([\n",
        "    [5,3,-1],\n",
        "])\n",
        "print (num_1)"
      ],
      "metadata": {
        "colab": {
          "base_uri": "https://localhost:8080/"
        },
        "id": "-uKF_fp1fbfa",
        "outputId": "13a88fbf-98d7-4d0a-c0a3-6be2749644d5"
      },
      "execution_count": 118,
      "outputs": [
        {
          "output_type": "stream",
          "name": "stdout",
          "text": [
            "[[ 5  3 -1]]\n"
          ]
        }
      ]
    },
    {
      "cell_type": "markdown",
      "source": [
        "2. Given the system of linear combinations below, try to encode it as a matrix. Also describe the matrix."
      ],
      "metadata": {
        "id": "zYz6LplahE9m"
      }
    },
    {
      "cell_type": "markdown",
      "source": [
        "$$\n",
        "A = \\left\\{\\begin{array}\n",
        "5w_1 + 4w_2 +7w_3\\\\\n",
        "6w_2 - 8w_3\\\\\n",
        "12w_3\n",
        "\\end{array}\\right.\n",
        "$$"
      ],
      "metadata": {
        "id": "EAPDxBJShVzC"
      }
    },
    {
      "cell_type": "code",
      "source": [
        "num_2 = np.array([\n",
        "    [1,4,7],\n",
        "    [0,6,-8],\n",
        "    [0,0,0]\n",
        "])\n",
        "describe_mat(num_2)"
      ],
      "metadata": {
        "colab": {
          "base_uri": "https://localhost:8080/"
        },
        "id": "g7q1tfT-fm37",
        "outputId": "5e56933f-8e1b-4261-a19f-c8e1803e483c"
      },
      "execution_count": 119,
      "outputs": [
        {
          "output_type": "stream",
          "name": "stdout",
          "text": [
            "Matrix:\n",
            "[[ 1  4  7]\n",
            " [ 0  6 -8]\n",
            " [ 0  0  0]]\n",
            "\n",
            "Shape:\t(3, 3)\n",
            "Rank:\t2\n",
            "Is Square: True\n",
            "\n"
          ]
        }
      ]
    },
    {
      "cell_type": "markdown",
      "source": [
        "3. Given the matrix below, express it as a linear combination in a markdown."
      ],
      "metadata": {
        "id": "Way6AlrMhXw4"
      }
    },
    {
      "cell_type": "code",
      "source": [
        "G = np.array ([\n",
        "    [4,6,8],\n",
        "    [5,5,5],\n",
        "    [5,7,9]\n",
        "])"
      ],
      "metadata": {
        "id": "NPBSvWbIhaWj"
      },
      "execution_count": 120,
      "outputs": []
    },
    {
      "cell_type": "markdown",
      "source": [
        "Linear combination\n",
        "$$\n",
        "G = \\left\\{\n",
        "    \\begin{array}\\\n",
        "      4x_1+6x_2+8x_3 \\\\\n",
        "      5x_1+5x_2-5y_3 \\\\\n",
        "      5x_1 + 6x_2 +8x_3\n",
        "    \\end{array}\n",
        "\\right.\n",
        "$$\n",
        "\n",
        "LaTex\n",
        "$$\n",
        "G=\\begin{bmatrix} 4 & 6 & 8 \\\\ 5 & 5 & 5 \\\\ 5 & 7 & 9\\end{bmatrix}\\\\\n",
        "$$"
      ],
      "metadata": {
        "id": "LysgH3uVIL-6"
      }
    },
    {
      "cell_type": "markdown",
      "source": [
        "4. Given the matrix below, display the output as a LaTeX makdown also express it as a system of linear combinations."
      ],
      "metadata": {
        "id": "5kzIchcDhc8A"
      }
    },
    {
      "cell_type": "code",
      "source": [
        "H = np.tril(G)\n",
        "H"
      ],
      "metadata": {
        "colab": {
          "base_uri": "https://localhost:8080/"
        },
        "id": "7znwxTsjhgC-",
        "outputId": "1bccc8e9-2b18-466b-ad57-58037a439e56"
      },
      "execution_count": 121,
      "outputs": [
        {
          "output_type": "execute_result",
          "data": {
            "text/plain": [
              "array([[4, 0, 0],\n",
              "       [5, 5, 0],\n",
              "       [5, 7, 9]])"
            ]
          },
          "metadata": {},
          "execution_count": 121
        }
      ]
    },
    {
      "cell_type": "markdown",
      "source": [
        "Linear combination\n",
        "$$\n",
        "H = \\left\\{\n",
        "    \\begin{array}\\\n",
        "      4x_1\\\\\n",
        "      5x_1+5x_2\\\\\n",
        "      5x_1 + 7x_2 +9x_3\n",
        "    \\end{array}\n",
        "\\right.\n",
        "$$\n",
        "\n",
        "LaTex\n",
        "$$\n",
        "G=\\begin{bmatrix} 4 & 0 & 0 \\\\ 5 & 5 & 0 \\\\ 5 & 7 & 9\\end{bmatrix}\\\\\n",
        "$$"
      ],
      "metadata": {
        "id": "mUgWtcwghnQZ"
      }
    },
    {
      "cell_type": "markdown",
      "source": [
        "#Activity"
      ],
      "metadata": {
        "id": "CX1UxBlcjJ0W"
      }
    },
    {
      "cell_type": "markdown",
      "source": [
        "## Task 1"
      ],
      "metadata": {
        "id": "15BJj9XGjLuK"
      }
    },
    {
      "cell_type": "markdown",
      "source": [
        "Create a function named `mat_desc()` that througouhly describes a matrix, it should: <br>\n",
        "1. Displays the shape, size, and rank of the matrix. <br>\n",
        "2. Displays whether the matrix is square or non-square. <br>\n",
        "3. Displays whether the matrix is an empty matrix. <br>\n",
        "4. Displays if the matrix is an identity, ones, or zeros matrix <br>\n",
        "   \n",
        "Use 5 sample matrices in which their shapes are not lower than $(3,3)$.\n",
        "In your methodology, create a flowchart discuss the functions and methods you have done. Present your results in the results section showing the description of each matrix you have declared."
      ],
      "metadata": {
        "id": "DyIJSn46jNW3"
      }
    },
    {
      "cell_type": "code",
      "source": [
        "# mat_desc function\n",
        "\n",
        "def mat_desc(matrix):\n",
        "  sq = False\n",
        "  matrix = np.array(matrix)\n",
        "  print(matrix)\n",
        "  print('Shape', matrix.shape)\n",
        "  print('Size', matrix.size)\n",
        "  print('Rank', np.linalg.matrix_rank(matrix))\n",
        "  if(matrix.shape[0] == matrix.shape[1]):\n",
        "    sq = True\n",
        "    print('Square Matrix')\n",
        "  else: \n",
        "    print('Non-Square Matrix')\n",
        "  if(matrix.shape[0] == 0 and matrix.shape[1] == 0):\n",
        "    print('Empty Matrix')\n",
        "  else:\n",
        "    print('Matrix in not Empty')\n",
        "  identity = np.identity(matrix.shape[0])\n",
        "  if(sq and (identity == matrix).all()):\n",
        "    print('Identity Matrix')\n",
        "  else:\n",
        "    print('Not an identity matrix')\n",
        "  ones = np.ones((matrix.shape[0], matrix.shape[1]))\n",
        "  if(ones == matrix).all ():\n",
        "    print('Ones matrix')\n",
        "  else:\n",
        "    print('Not a Ones Matrix')\n",
        "  zero = np.zeros((matrix.shape[0], matrix.shape[1]))\n",
        "  if((zero == matrix).all()):\n",
        "    print('Zero Matrix')\n",
        "  else:\n",
        "    print('Non-Zero Matrix')"
      ],
      "metadata": {
        "id": "E94enWNOyDMr"
      },
      "execution_count": null,
      "outputs": []
    },
    {
      "cell_type": "code",
      "source": [
        "print('Example 1: Matrix A')\n",
        "mat_desc([\n",
        "    [5,1,0],\n",
        "    [1,0,-3],\n",
        "    [4,1,0],\n",
        "    [-2,9,1]\n",
        "]) \n",
        "print(\"\\t\")\n",
        "print('Example 2: Matrix B')\n",
        "mat_desc([\n",
        "    [0,0,0,0],\n",
        "    [0,0,0,0],\n",
        "    [0,0,0,0]\n",
        "])\n",
        "print(\"\\t\")\n",
        "print('Example 3: Matrix C')\n",
        "mat_desc([\n",
        "    [1,1,1,1],\n",
        "    [1,1,1,1],\n",
        "    [1,1,1,1]\n",
        "])\n",
        "print(\"\\t\")\n",
        "print('Matrix 4: Matrix D')\n",
        "mat_desc([\n",
        "    [1,0,0,0],\n",
        "    [0,1,0,0],\n",
        "    [0,0,1,0],\n",
        "    [0,0,0,1]\n",
        "])\n",
        "print(\"\\t\")\n",
        "print('Example 5: Matrix E')\n",
        "mat_desc([\n",
        "    [1,2,3,0,-6],\n",
        "    [0,4,-1,5,-11],\n",
        "    [-3,1,2,0,-5],\n",
        "    [10,0,3,6,1]\n",
        "])"
      ],
      "metadata": {
        "colab": {
          "base_uri": "https://localhost:8080/"
        },
        "id": "ReQyfy76yRPJ",
        "outputId": "e490cc29-8a6a-474f-80d9-4802e2f50154"
      },
      "execution_count": null,
      "outputs": [
        {
          "output_type": "stream",
          "name": "stdout",
          "text": [
            "Example 1: Matrix A\n",
            "[[ 5  1  0]\n",
            " [ 1  0 -3]\n",
            " [ 4  1  0]\n",
            " [-2  9  1]]\n",
            "Shape (4, 3)\n",
            "Size 12\n",
            "Rank 3\n",
            "Non-Square Matrix\n",
            "Matrix in not Empty\n",
            "Not an identity matrix\n",
            "Not a Ones Matrix\n",
            "Non-Zero Matrix\n",
            "\t\n",
            "Example 2: Matrix B\n",
            "[[0 0 0 0]\n",
            " [0 0 0 0]\n",
            " [0 0 0 0]]\n",
            "Shape (3, 4)\n",
            "Size 12\n",
            "Rank 0\n",
            "Non-Square Matrix\n",
            "Matrix in not Empty\n",
            "Not an identity matrix\n",
            "Not a Ones Matrix\n",
            "Zero Matrix\n",
            "\t\n",
            "Example 3: Matrix C\n",
            "[[1 1 1 1]\n",
            " [1 1 1 1]\n",
            " [1 1 1 1]]\n",
            "Shape (3, 4)\n",
            "Size 12\n",
            "Rank 1\n",
            "Non-Square Matrix\n",
            "Matrix in not Empty\n",
            "Not an identity matrix\n",
            "Ones matrix\n",
            "Non-Zero Matrix\n",
            "\t\n",
            "Matrix 4: Matrix D\n",
            "[[1 0 0 0]\n",
            " [0 1 0 0]\n",
            " [0 0 1 0]\n",
            " [0 0 0 1]]\n",
            "Shape (4, 4)\n",
            "Size 16\n",
            "Rank 4\n",
            "Square Matrix\n",
            "Matrix in not Empty\n",
            "Identity Matrix\n",
            "Not a Ones Matrix\n",
            "Non-Zero Matrix\n",
            "\t\n",
            "Example 5: Matrix E\n",
            "[[  1   2   3   0  -6]\n",
            " [  0   4  -1   5 -11]\n",
            " [ -3   1   2   0  -5]\n",
            " [ 10   0   3   6   1]]\n",
            "Shape (4, 5)\n",
            "Size 20\n",
            "Rank 4\n",
            "Non-Square Matrix\n",
            "Matrix in not Empty\n",
            "Not an identity matrix\n",
            "Not a Ones Matrix\n",
            "Non-Zero Matrix\n"
          ]
        }
      ]
    },
    {
      "cell_type": "markdown",
      "source": [
        "## Task 2"
      ],
      "metadata": {
        "id": "j7JyL9SrjQsx"
      }
    },
    {
      "cell_type": "markdown",
      "source": [
        "Create a function named `mat_operations()` that takes in two matrices a input parameters it should:<br>\n",
        " 1. Determines if the matrices are viable for operation and returns your own error message if they are not viable.\n",
        " 2. Returns the sum of the matrices.\n",
        " 3. Returns the difference of the matrices.\n",
        " 4. Returns the element-wise multiplication of the matrices.\n",
        " 5. Returns the element-wise division of the matrices.\n",
        "\n",
        "Use 5 sample matrices in which their shapes are not lower than $(3,3)$.\n",
        "In your methodology, create a flowchart discuss the functions and methods you have done. Present your results in the results section showing the description of each matrix you have declared."
      ],
      "metadata": {
        "id": "PYf3ooB8jShX"
      }
    },
    {
      "cell_type": "code",
      "source": [
        "#mat_operations function\n",
        "MatrixA \n",
        "def mat_operations(matrixA, matrixB):\n",
        "    matrixA = np.array(matrixA)\n",
        "    matrixB = np.array(matrixB)\n",
        "    print('Matrix A:', matrixA)\n",
        "    print('Matrix B:', matrixB)\n",
        "    if(matrixA.shape != matrixB.shape):\n",
        "        print('The dimensions of the two matrices are not equal. Operation Error.')\n",
        "        return\n",
        "    print('Sum Matrix A and Matrix B:')\n",
        "    matrixsum = matrixA + matrixB\n",
        "    print(matrixsum)\n",
        "    print('Difference of Matrix A and Matrix B:')\n",
        "    matrixdiff = matrixA - matrixB\n",
        "    print(matrixdiff)\n",
        "    print('Element-wise multiplication of Matrix A and Matrix B:')\n",
        "    matrixmulti = np.multiply(matrixA, matrixB)\n",
        "    print(matrixmulti)\n",
        "    print('Element-wise division of Matrix A and Matrix B:')\n",
        "    matrixdiv = np.divide(matrixA, matrixB)\n",
        "    print(matrixdiv)"
      ],
      "metadata": {
        "id": "i9sS8a8ZFsAH"
      },
      "execution_count": 71,
      "outputs": []
    },
    {
      "cell_type": "code",
      "source": [
        "print('Example 1:')\n",
        "MatrixA = np.array([\n",
        "              [4,6,8],\n",
        "              [5,5,5],\n",
        "              [5,7,9]\n",
        "])\n",
        "MatrixB = np.array([\n",
        "              [-1,2,-3],\n",
        "              [4,5,6],\n",
        "              [-7,-8,9]\n",
        "])\n",
        "mat_operations(MatrixA,MatrixB)\n",
        "print(\"\\t\") \n",
        "print('Example 2:')\n",
        "MatrixA = np.array ([\n",
        "             [5,1,12,11],\n",
        "             [-1,-2,3,5],\n",
        "             [5,7,9,7],\n",
        "             [8,1,13,-4]\n",
        "])\n",
        "MatrixB = np.array([\n",
        "              [-1,5,2,-3],\n",
        "              [4,10,5,6],\n",
        "              [-7,13,-8,9],\n",
        "              [17,-17,5,3]\n",
        "])\n",
        "mat_operations(MatrixA,MatrixB)\n",
        "print(\"\\t\") \n",
        "print('Example 3:')\n",
        "MatrixA = np.array ([\n",
        "             [3,1,12,11,5],\n",
        "             [-1,2,3,3,1],\n",
        "             [5,7,9,10,-1],\n",
        "])\n",
        "MatrixB = np.array([\n",
        "              [1,9,2,3,1],\n",
        "              [4,-10,-5,6,1],\n",
        "              [7,13,8,9,1],\n",
        "])\n",
        "mat_operations(MatrixA,MatrixB)\n",
        "print(\"\\t\") \n",
        "print('Example 4:')\n",
        "MatrixA = np.array ([\n",
        "             [8,1,12,11,5],\n",
        "             [-1,2,4,7,1],\n",
        "             [5,7,9,10,-1],\n",
        "             [3,19,-13,11,1]\n",
        "])\n",
        "MatrixB = np.array([\n",
        "              [1,8,2,3,1],\n",
        "              [4,-10,-5,6,1],\n",
        "              [7,13,8,9,1],\n",
        "              [-1,13,2,3,1]\n",
        "])\n",
        "mat_operations(MatrixA,MatrixB)\n",
        "print(\"\\t\") \n",
        "print('Example 5:')\n",
        "MatrixA = np.array ([\n",
        "             [1,1,12,11,2,4],\n",
        "             [-1,2,2,-4,1,3],\n",
        "             [5,7,9,10,-1,2],\n",
        "])\n",
        "MatrixB = np.array([\n",
        "              [1,12,2,3,1,4,3],\n",
        "              [4,-10,-5,6,1,3,4],\n",
        "              [7,13,8,9,1,2,1],\n",
        "])\n",
        "mat_operations(MatrixA,MatrixB)"
      ],
      "metadata": {
        "colab": {
          "base_uri": "https://localhost:8080/"
        },
        "id": "8aINJQbVAkPH",
        "outputId": "e9d30cbc-c999-46f5-9cb9-50108387ab8c"
      },
      "execution_count": 72,
      "outputs": [
        {
          "output_type": "stream",
          "name": "stdout",
          "text": [
            "Example 1:\n",
            "Matrix A: [[4 6 8]\n",
            " [5 5 5]\n",
            " [5 7 9]]\n",
            "Matrix B: [[-1  2 -3]\n",
            " [ 4  5  6]\n",
            " [-7 -8  9]]\n",
            "Sum Matrix A and Matrix B:\n",
            "[[ 3  8  5]\n",
            " [ 9 10 11]\n",
            " [-2 -1 18]]\n",
            "Difference of Matrix A and Matrix B:\n",
            "<ufunc 'subtract'>\n",
            "Element-wise multiplication of Matrix A and Matrix B:\n",
            "[[ -4  12 -24]\n",
            " [ 20  25  30]\n",
            " [-35 -56  81]]\n",
            "Element-wise division of Matrix A and Matrix B:\n",
            "[[-4.          3.         -2.66666667]\n",
            " [ 1.25        1.          0.83333333]\n",
            " [-0.71428571 -0.875       1.        ]]\n",
            "\t\n",
            "Example 2:\n",
            "Matrix A: [[ 5  1 12 11]\n",
            " [-1 -2  3  5]\n",
            " [ 5  7  9  7]\n",
            " [ 8  1 13 -4]]\n",
            "Matrix B: [[ -1   5   2  -3]\n",
            " [  4  10   5   6]\n",
            " [ -7  13  -8   9]\n",
            " [ 17 -17   5   3]]\n",
            "Sum Matrix A and Matrix B:\n",
            "[[  4   6  14   8]\n",
            " [  3   8   8  11]\n",
            " [ -2  20   1  16]\n",
            " [ 25 -16  18  -1]]\n",
            "Difference of Matrix A and Matrix B:\n",
            "<ufunc 'subtract'>\n",
            "Element-wise multiplication of Matrix A and Matrix B:\n",
            "[[ -5   5  24 -33]\n",
            " [ -4 -20  15  30]\n",
            " [-35  91 -72  63]\n",
            " [136 -17  65 -12]]\n",
            "Element-wise division of Matrix A and Matrix B:\n",
            "[[-5.          0.2         6.         -3.66666667]\n",
            " [-0.25       -0.2         0.6         0.83333333]\n",
            " [-0.71428571  0.53846154 -1.125       0.77777778]\n",
            " [ 0.47058824 -0.05882353  2.6        -1.33333333]]\n",
            "\t\n",
            "Example 3:\n",
            "Matrix A: [[ 3  1 12 11  5]\n",
            " [-1  2  3  3  1]\n",
            " [ 5  7  9 10 -1]]\n",
            "Matrix B: [[  1   9   2   3   1]\n",
            " [  4 -10  -5   6   1]\n",
            " [  7  13   8   9   1]]\n",
            "Sum Matrix A and Matrix B:\n",
            "[[ 4 10 14 14  6]\n",
            " [ 3 -8 -2  9  2]\n",
            " [12 20 17 19  0]]\n",
            "Difference of Matrix A and Matrix B:\n",
            "<ufunc 'subtract'>\n",
            "Element-wise multiplication of Matrix A and Matrix B:\n",
            "[[  3   9  24  33   5]\n",
            " [ -4 -20 -15  18   1]\n",
            " [ 35  91  72  90  -1]]\n",
            "Element-wise division of Matrix A and Matrix B:\n",
            "[[ 3.          0.11111111  6.          3.66666667  5.        ]\n",
            " [-0.25       -0.2        -0.6         0.5         1.        ]\n",
            " [ 0.71428571  0.53846154  1.125       1.11111111 -1.        ]]\n",
            "\t\n",
            "Example 4:\n",
            "Matrix A: [[  8   1  12  11   5]\n",
            " [ -1   2   4   7   1]\n",
            " [  5   7   9  10  -1]\n",
            " [  3  19 -13  11   1]]\n",
            "Matrix B: [[  1   8   2   3   1]\n",
            " [  4 -10  -5   6   1]\n",
            " [  7  13   8   9   1]\n",
            " [ -1  13   2   3   1]]\n",
            "Sum Matrix A and Matrix B:\n",
            "[[  9   9  14  14   6]\n",
            " [  3  -8  -1  13   2]\n",
            " [ 12  20  17  19   0]\n",
            " [  2  32 -11  14   2]]\n",
            "Difference of Matrix A and Matrix B:\n",
            "<ufunc 'subtract'>\n",
            "Element-wise multiplication of Matrix A and Matrix B:\n",
            "[[  8   8  24  33   5]\n",
            " [ -4 -20 -20  42   1]\n",
            " [ 35  91  72  90  -1]\n",
            " [ -3 247 -26  33   1]]\n",
            "Element-wise division of Matrix A and Matrix B:\n",
            "[[ 8.          0.125       6.          3.66666667  5.        ]\n",
            " [-0.25       -0.2        -0.8         1.16666667  1.        ]\n",
            " [ 0.71428571  0.53846154  1.125       1.11111111 -1.        ]\n",
            " [-3.          1.46153846 -6.5         3.66666667  1.        ]]\n",
            "\t\n",
            "Example 5:\n",
            "Matrix A: [[ 1  1 12 11  2  4]\n",
            " [-1  2  2 -4  1  3]\n",
            " [ 5  7  9 10 -1  2]]\n",
            "Matrix B: [[  1  12   2   3   1   4   3]\n",
            " [  4 -10  -5   6   1   3   4]\n",
            " [  7  13   8   9   1   2   1]]\n",
            "The dimensions of the two matrices are not equal. Operation Error.\n"
          ]
        }
      ]
    }
  ]
}