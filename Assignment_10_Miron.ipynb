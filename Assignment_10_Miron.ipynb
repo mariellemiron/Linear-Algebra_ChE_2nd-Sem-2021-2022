{
  "nbformat": 4,
  "nbformat_minor": 0,
  "metadata": {
    "colab": {
      "name": "Assignment 10_Miron.ipynb",
      "provenance": [],
      "authorship_tag": "ABX9TyMC7jL4aJFVzxmJHAf6Ip/n",
      "include_colab_link": true
    },
    "kernelspec": {
      "name": "python3",
      "display_name": "Python 3"
    },
    "language_info": {
      "name": "python"
    }
  },
  "cells": [
    {
      "cell_type": "markdown",
      "metadata": {
        "id": "view-in-github",
        "colab_type": "text"
      },
      "source": [
        "<a href=\"https://colab.research.google.com/github/mariellemiron/Linear-Algebra_ChE_2nd-Sem-2021-2022/blob/main/Assignment_10_Miron.ipynb\" target=\"_parent\"><img src=\"https://colab.research.google.com/assets/colab-badge.svg\" alt=\"Open In Colab\"/></a>"
      ]
    },
    {
      "cell_type": "markdown",
      "source": [
        "# Linear Algebra for ChE\n",
        "## Laboratory 10 : Linear Combination and Vector Spaces"
      ],
      "metadata": {
        "id": "1jGKpl-qm422"
      }
    },
    {
      "cell_type": "markdown",
      "source": [
        "We'll try to depict linear combination using scientific programming now that you have a basic understanding of it."
      ],
      "metadata": {
        "id": "cVF2rG6Mm6nt"
      }
    },
    {
      "cell_type": "markdown",
      "source": [
        "### Objectives\n",
        "At the end of this activity you will be able to:\n",
        "1.Familiarizing therepresenting linear combinations in the 2-dimensional plane.\n",
        "2. In Python, use vector fields to visualize spans.\n",
        "3. Using scientific programming, do vector field operations."
      ],
      "metadata": {
        "id": "yz6VqUyTm8CO"
      }
    },
    {
      "cell_type": "markdown",
      "source": [
        "## Discussion"
      ],
      "metadata": {
        "id": "2_RDeQz9m8wR"
      }
    },
    {
      "cell_type": "code",
      "execution_count": 1,
      "metadata": {
        "id": "5Rb1QIfVm0Mv"
      },
      "outputs": [],
      "source": [
        "import numpy as np\n",
        "import matplotlib.pyplot as plt\n",
        "%matplotlib inline"
      ]
    },
    {
      "cell_type": "markdown",
      "source": [
        "## Linear Combination"
      ],
      "metadata": {
        "id": "JJ7tE5TDnAOt"
      }
    },
    {
      "cell_type": "markdown",
      "source": [
        "A linear combination is defined as the addition of a vector's bases/components and its linear scaling."
      ],
      "metadata": {
        "id": "hbG5s8qAnCCM"
      }
    },
    {
      "cell_type": "markdown",
      "source": [
        "By charting a sample of real number values for the scalars for the vectors, we will attempt to visualize the vectors and their linear combinations. Let's start with the following vectors:"
      ],
      "metadata": {
        "id": "JcYPcw_qnDWk"
      }
    },
    {
      "cell_type": "markdown",
      "source": [
        "$$S = \\begin{bmatrix} 4\\\\6 \\\\\\end{bmatrix} , V = \\begin{bmatrix} 1\\\\7 \\\\\\end{bmatrix} $$"
      ],
      "metadata": {
        "id": "V9uyevzgnFA7"
      }
    },
    {
      "cell_type": "code",
      "source": [
        "vectS =  np.array([4,5])\n",
        "vectV =  np.array([1,7])\n",
        "vectS"
      ],
      "metadata": {
        "id": "x0ZvVPmYnGtz",
        "colab": {
          "base_uri": "https://localhost:8080/"
        },
        "outputId": "b226c3af-5242-4fd6-e0e5-de6ea62c4f4a"
      },
      "execution_count": 2,
      "outputs": [
        {
          "output_type": "execute_result",
          "data": {
            "text/plain": [
              "array([4, 5])"
            ]
          },
          "metadata": {},
          "execution_count": 2
        }
      ]
    },
    {
      "cell_type": "markdown",
      "source": [
        "#### Span of single vectors"
      ],
      "metadata": {
        "id": "xRHbgSZdnIQe"
      }
    },
    {
      "cell_type": "markdown",
      "source": [
        "A line span can be used to represent the span of individual vectors, as mentioned in the lecture. As an example, consider vector $S$."
      ],
      "metadata": {
        "id": "nv7-fcgznKKH"
      }
    },
    {
      "cell_type": "markdown",
      "source": [
        "$$S = c\\cdot \\begin{bmatrix} 4\\\\8 \\\\\\end{bmatrix} $$"
      ],
      "metadata": {
        "id": "sFXDGYbVnLTI"
      }
    },
    {
      "cell_type": "code",
      "source": [
        "c = np.arange(-11,13,0.35)\n",
        "\n",
        "plt.scatter(c*vectS[0],c*vectS[1])\n",
        "\n",
        "plt.xlim(-11,11)\n",
        "plt.ylim(-11,11)\n",
        "plt.axhline(y=0, color='k')\n",
        "plt.axvline(x=0, color='k')\n",
        "plt.grid()\n",
        "plt.show()"
      ],
      "metadata": {
        "colab": {
          "base_uri": "https://localhost:8080/",
          "height": 265
        },
        "id": "B974Au8MnM_R",
        "outputId": "cc93d3f0-8cc7-4be4-ad22-771f7570f645"
      },
      "execution_count": 3,
      "outputs": [
        {
          "output_type": "display_data",
          "data": {
            "text/plain": [
              "<Figure size 432x288 with 1 Axes>"
            ],
            "image/png": "[encoded data removed]"
          },
          "metadata": {
            "needs_background": "light"
          }
        }
      ]
    },
    {
      "cell_type": "markdown",
      "source": [
        "$$S = c\\cdot \\begin{bmatrix} 6\\\\4 \\\\\\end{bmatrix} $$"
      ],
      "metadata": {
        "id": "o5cvgHPlnPkN"
      }
    },
    {
      "cell_type": "code",
      "source": [
        "S = np.array([6,4])\n",
        "c = np.arange(-6,6,0.35)\n",
        "\n",
        "plt.scatter(S[0],S[1])\n",
        "\n",
        "plt.xlim(-20,20)\n",
        "plt.ylim(-20,20)\n",
        "plt.axhline(y=0, color='k')\n",
        "plt.axvline(x=0, color='k')\n",
        "plt.grid()\n",
        "plt.show()"
      ],
      "metadata": {
        "colab": {
          "base_uri": "https://localhost:8080/",
          "height": 269
        },
        "id": "16cOq2MenQ5p",
        "outputId": "1098b6b9-d882-4c96-b17b-7a86a37439fb"
      },
      "execution_count": 6,
      "outputs": [
        {
          "output_type": "display_data",
          "data": {
            "text/plain": [
              "<Figure size 432x288 with 1 Axes>"
            ],
            "image/png": "[encoded data removed]"
          },
          "metadata": {
            "needs_background": "light"
          }
        }
      ]
    },
    {
      "cell_type": "markdown",
      "source": [
        "### Span of a linear combination of vectors"
      ],
      "metadata": {
        "id": "O_iZu4ehnR3k"
      }
    },
    {
      "cell_type": "markdown",
      "source": [
        "So, what if we wanted to plot the span of a linear vector combination? On a two-dimensional coordinate system, we can represent it as a plane. Consider the following linear combination's span:"
      ],
      "metadata": {
        "id": "ptZxXb_mnTOf"
      }
    },
    {
      "cell_type": "markdown",
      "source": [
        "$$S = \\begin{Bmatrix} c_1 \\cdot\\begin{bmatrix} 4\\\\3 \\\\\\end{bmatrix}, \n",
        "c_2 \\cdot \\begin{bmatrix} 8\\\\-5 \\\\\\end{bmatrix}\\end{Bmatrix} $$"
      ],
      "metadata": {
        "id": "TjXMe50cnUfx"
      }
    },
    {
      "cell_type": "code",
      "source": [
        "vectA = np.array([4,3])\n",
        "vectB = np.array([8,-5])\n",
        "\n",
        "R = np.arange(-20,20,3)\n",
        "\n",
        "c1, c2 = np.meshgrid(R,R)\n",
        "\n",
        "vectR = vectA + vectB\n",
        "spanRx = c1*vectA[0] + c2*vectB[0]\n",
        "spanRy = c1*vectA[1] + c2*vectB[1]\n",
        "plt.scatter(R*vectA[0],R*vectA[1])\n",
        "plt.scatter(R*vectB[0],R*vectB[1])\n",
        "plt.scatter(spanRx,spanRy, s=5, alpha=0.75)\n",
        "\n",
        "plt.axhline(y=0, color='k')\n",
        "plt.axvline(x=0, color='k')\n",
        "plt.grid()\n",
        "plt.show()"
      ],
      "metadata": {
        "colab": {
          "base_uri": "https://localhost:8080/",
          "height": 265
        },
        "id": "vilo7Mc0nX0a",
        "outputId": "c1e15987-17da-4e69-d1b0-d14fe3699b9d"
      },
      "execution_count": 7,
      "outputs": [
        {
          "output_type": "display_data",
          "data": {
            "text/plain": [
              "<Figure size 432x288 with 1 Axes>"
            ],
            "image/png": "[encoded data removed]"
          },
          "metadata": {
            "needs_background": "light"
          }
        }
      ]
    },
    {
      "cell_type": "code",
      "source": [
        "vectT = np.array([8,-4])\n",
        "vectR = np.array([-5,-6])\n",
        "\n",
        "R = np.arange(-14,16,1)\n",
        "\n",
        "c1, c2 = np.meshgrid(R,R)\n",
        "\n",
        "vectR = vectT + vectR\n",
        "spanRx = c1*vectT[0] + c2*vectR[0]\n",
        "spanRy = c1*vectT[1] + c2*vectR[1]\n",
        "#plt.scatter(R*vectT[0],R*vectT[1])\n",
        "#plt.scatter(R*vectR[0],R*vectR[1])\n",
        "plt.scatter(spanRx,spanRy, s=5, alpha=0.75)\n",
        "\n",
        "plt.axhline(y=0, color='k')\n",
        "plt.axvline(x=0, color='k')\n",
        "plt.grid()\n",
        "plt.show()"
      ],
      "metadata": {
        "colab": {
          "base_uri": "https://localhost:8080/",
          "height": 265
        },
        "id": "QzlAkaNYnZEY",
        "outputId": "8aec507f-8829-4e8c-c7f0-dfd5b982206b"
      },
      "execution_count": 8,
      "outputs": [
        {
          "output_type": "display_data",
          "data": {
            "text/plain": [
              "<Figure size 432x288 with 1 Axes>"
            ],
            "image/png": "[encoded data removed]"
          },
          "metadata": {
            "needs_background": "light"
          }
        }
      ]
    },
    {
      "cell_type": "markdown",
      "source": [
        "Take note that if vectors are seen to be as a 2-dimensional span we can say it has a Rank of 2 or $\\mathbb{R}^2$. But if the span of the linear combination of vectors are seen to be like a line, they are said to be <b> linearly dependent </b> and they have a rank of 1 or $\\mathbb{R}^1$."
      ],
      "metadata": {
        "id": "HZP0ThzLnZ_1"
      }
    },
    {
      "cell_type": "markdown",
      "source": [
        "# Activity"
      ],
      "metadata": {
        "id": "3wp9Esw2nb-4"
      }
    },
    {
      "cell_type": "markdown",
      "source": [
        "### Task 1"
      ],
      "metadata": {
        "id": "CAXygiPIndkK"
      }
    },
    {
      "cell_type": "markdown",
      "source": [
        "Try different linear combinations using different scalar values. In your methodology discuss the different functions that you have used, the  linear equation and vector form of the linear combination, and the flowchart for declaring and displaying linear combinations. Please make sure that your flowchart has only few words and not putting the entire code as it is bad practice. In your results, display and discuss the linear combination visualization you made. You should use the cells below for displaying the equation markdows using LaTeX and your code."
      ],
      "metadata": {
        "id": "1R-8v0x4neXT"
      }
    },
    {
      "cell_type": "markdown",
      "source": [
        "#### LaTex Form"
      ],
      "metadata": {
        "id": "UIBUx3dNhXtn"
      }
    },
    {
      "cell_type": "markdown",
      "source": [
        "$$A = \\begin{Bmatrix} A \\cdot\\begin{bmatrix} 6\\\\2 \\\\\\end{bmatrix}, \n",
        "B \\cdot \\begin{bmatrix} 8\\\\18 \\\\\\end{bmatrix}\\end{Bmatrix} $$\n",
        "$$\n",
        "X = \\begin{array}\\\n",
        "        6\\hat{x} + 2\\hat{y} \\\\ \n",
        "    \\end{array}\n",
        "$$\n",
        "$$\n",
        "Y = \\begin{array}\\\n",
        "        8\\hat{x} + 18\\hat{y} \\\\ \n",
        "    \\end{array}\n",
        "$$"
      ],
      "metadata": {
        "id": "d1KPP0DMhhDN"
      }
    },
    {
      "cell_type": "code",
      "source": [
        "X = np.array([6,2])\n",
        "Y = np.array([8,18])\n",
        "#Y= np.array([-1,-3])\n",
        "\n",
        "Z = np.arange(-14,14,1)\n",
        "\n",
        "A, B = np.meshgrid(Z,Z)\n",
        "                    \n",
        "vectZ = X + Y\n",
        "spanZx = A*X[0] + B*Y[0]\n",
        "spanZy = A*X[1] + B*Y[1]\n",
        "plt.scatter(Z*X[0],Z*Y[1])\n",
        "plt.scatter(Z*X[0],Z*Y[1])\n",
        "plt.scatter(spanZx,spanZy, s=0.5, alpha=0.5)\n",
        "plt.axhline(y=0, color='k')\n",
        "plt.axvline(x=0, color='k')\n",
        "plt.grid()\n",
        "plt.show()"
      ],
      "metadata": {
        "id": "pC_Zhv1mnji6",
        "colab": {
          "base_uri": "https://localhost:8080/",
          "height": 265
        },
        "outputId": "520abc7d-51c0-4e01-b9ad-6c5abea291a4"
      },
      "execution_count": 9,
      "outputs": [
        {
          "output_type": "display_data",
          "data": {
            "text/plain": [
              "<Figure size 432x288 with 1 Axes>"
            ],
            "image/png": "[encoded data removed]"
          },
          "metadata": {
            "needs_background": "light"
          }
        }
      ]
    },
    {
      "cell_type": "markdown",
      "source": [
        "## Conclusion guide"
      ],
      "metadata": {
        "id": "ymEMYA5Knk4c"
      }
    },
    {
      "cell_type": "markdown",
      "source": [
        "For your conclusion synthesize the concept and application of the laboratory. Briefly discuss what you have learn and achieved in this activity. At the end of your conclusion try to answer the question : \"How can you apply the concept of linear combination in engineering or real-life situations?\"."
      ],
      "metadata": {
        "id": "VucvHuCunmCd"
      }
    }
  ]
}