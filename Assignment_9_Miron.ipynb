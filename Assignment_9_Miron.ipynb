{
  "nbformat": 4,
  "nbformat_minor": 0,
  "metadata": {
    "colab": {
      "name": "Assignment 9_Miron.ipynb",
      "provenance": [],
      "collapsed_sections": [],
      "authorship_tag": "ABX9TyOq0yfTfRHn6PproQOdt7K3",
      "include_colab_link": true
    },
    "kernelspec": {
      "name": "python3",
      "display_name": "Python 3"
    },
    "language_info": {
      "name": "python"
    }
  },
  "cells": [
    {
      "cell_type": "markdown",
      "metadata": {
        "id": "view-in-github",
        "colab_type": "text"
      },
      "source": [
        "<a href=\"https://colab.research.google.com/github/mariellemiron/Linear-Algebra_ChE_2nd-Sem-2021-2022/blob/main/Assignment_9_Miron.ipynb\" target=\"_parent\"><img src=\"https://colab.research.google.com/assets/colab-badge.svg\" alt=\"Open In Colab\"/></a>"
      ]
    },
    {
      "cell_type": "markdown",
      "source": [
        "# Lab 9 - Plotting Vector using NumPy and MatPlotLib"
      ],
      "metadata": {
        "id": "cK1CzggAioTd"
      }
    },
    {
      "cell_type": "markdown",
      "source": [
        "This laboratory activity explains and performs the basics of numerical and scientific programming libraries by working with Vectors using NumPy and MatPlotLib."
      ],
      "metadata": {
        "id": "igEokR1oip21"
      }
    },
    {
      "cell_type": "markdown",
      "source": [
        "### Objectives\n",
        "At the end of this laboratory activity, the students will be able to:\n",
        "1. Identify and utilize the numerical and scientific programming libraries of Python Programming.\n",
        "2. Visualize and analyze vectors through Python programming.\n",
        "3. Execute simple vector operations in Python Programming."
      ],
      "metadata": {
        "id": "aqPueo6viveq"
      }
    },
    {
      "cell_type": "markdown",
      "source": [
        "## Discussion"
      ],
      "metadata": {
        "id": "y1iK8tE-iyV-"
      }
    },
    {
      "cell_type": "markdown",
      "source": [
        "### NumPy"
      ],
      "metadata": {
        "id": "fuxaBENri05K"
      }
    },
    {
      "cell_type": "markdown",
      "source": [
        "Numpy or Numerical Python is a Python library used for working with arrays and vector operations. It provides a multidimensional object and various derived objects for fast operations on arrays including mathematical, logical, basic linear algebra, and many more. Most Python scientific programming libraries uses NumPy as the basic code."
      ],
      "metadata": {
        "id": "vvr5UhYPi3MP"
      }
    },
    {
      "cell_type": "markdown",
      "source": [
        "Scalars \\\\\n",
        "- It represent magnitude or a single value only.\n",
        "\n",
        "Vectors \\\\\n",
        "- It represent magnitude with directors."
      ],
      "metadata": {
        "id": "uukFO7kJi5KP"
      }
    },
    {
      "cell_type": "markdown",
      "source": [
        "#### Representing Vectors"
      ],
      "metadata": {
        "id": "V1sBNVuLi7WT"
      }
    },
    {
      "cell_type": "markdown",
      "source": [
        "Let's say that we have these sample vectors:"
      ],
      "metadata": {
        "id": "9iWWCwkHi9Cg"
      }
    },
    {
      "cell_type": "markdown",
      "source": [
        "$$ A = 5\\hat{x} + 4\\hat{y} \\\\\n",
        "B = 7\\hat{x} - 3\\hat{y}\\\\\n",
        "C = 2ax + 4ay - 6az \\\\\n",
        "D = 3\\hat{i} - 6\\hat{j} + 9\\hat{k}$$"
      ],
      "metadata": {
        "id": "Ot0aKRPmjEXy"
      }
    },
    {
      "cell_type": "markdown",
      "source": [
        "In which it's matrix equivalent is:"
      ],
      "metadata": {
        "id": "pz_lfnJQjHH0"
      }
    },
    {
      "cell_type": "markdown",
      "source": [
        "$$ A = \\begin{bmatrix} 5 \\\\ 4\\end{bmatrix} , B = \\begin{bmatrix} 7 \\\\ -3\\end{bmatrix} , C = \\begin{bmatrix} 2 \\\\ 4 \\\\  -6 \\end{bmatrix}, D = \\begin{bmatrix} 3 \\\\ -6 \\\\ 9\\end{bmatrix}\n",
        "$$\n",
        "$$ A = \\begin{bmatrix} 5 & 4\\end{bmatrix} , B = \\begin{bmatrix} 7 & -3\\end{bmatrix} , C = \\begin{bmatrix} 2 & 4 & -6\\end{bmatrix} , D = \\begin{bmatrix} 3 & -6 & 9\\end{bmatrix} \n",
        "$$"
      ],
      "metadata": {
        "id": "HNPAPm-WjKZY"
      }
    },
    {
      "cell_type": "markdown",
      "source": [
        "With this, we can start executing the numpy code by declaring the following:"
      ],
      "metadata": {
        "id": "o7jUVyfajMrt"
      }
    },
    {
      "cell_type": "code",
      "source": [
        "## Importing necessary libraries\n",
        "import numpy as np ## 'np' here is short-hand name of the library (numpy) or a nickname."
      ],
      "metadata": {
        "id": "VbFTKi8Nixl8"
      },
      "execution_count": 32,
      "outputs": []
    },
    {
      "cell_type": "code",
      "source": [
        "A = np.array([5, 4])\n",
        "B = np.array([7, -3])\n",
        "C = np.array([[2], \n",
        "             [4],\n",
        "             [-6]\n",
        "])\n",
        "D = np.array ([[3],\n",
        "               [-6],\n",
        "               [9]\n",
        "])\n",
        "print('Vector A is ', A)\n",
        "print('Vector B is ', B)\n",
        "print('Vector C is ', C)\n",
        "print('Vector D is ', D)"
      ],
      "metadata": {
        "colab": {
          "base_uri": "https://localhost:8080/"
        },
        "id": "Kamk2Y3VjQd8",
        "outputId": "522b711e-a9f6-4c47-896d-75c44993fccc"
      },
      "execution_count": null,
      "outputs": [
        {
          "output_type": "stream",
          "name": "stdout",
          "text": [
            "Vector A is  [5 4]\n",
            "Vector B is  [ 7 -3]\n",
            "Vector C is  [[ 2]\n",
            " [ 4]\n",
            " [-6]]\n",
            "Vector D is  [[ 3]\n",
            " [-6]\n",
            " [ 9]]\n"
          ]
        }
      ]
    },
    {
      "cell_type": "markdown",
      "source": [
        "#### Describing vectors in NumPy"
      ],
      "metadata": {
        "id": "wQAM426njTgs"
      }
    },
    {
      "cell_type": "markdown",
      "source": [
        "Describing vectors is important in performing basic operations to advanced operations. We can describe vectors by identifying their shape, size, and dimensions."
      ],
      "metadata": {
        "id": "5aljxTYNjVLI"
      }
    },
    {
      "cell_type": "code",
      "source": [
        "### Checking shapes\n",
        "### The vector shape identifies the number of elements present on each row and column.\n",
        "\n",
        "D.shape"
      ],
      "metadata": {
        "colab": {
          "base_uri": "https://localhost:8080/"
        },
        "id": "zim1-m-bjV0W",
        "outputId": "9301c115-678b-4f28-965b-3e1bd204d084"
      },
      "execution_count": null,
      "outputs": [
        {
          "output_type": "execute_result",
          "data": {
            "text/plain": [
              "(3, 1)"
            ]
          },
          "metadata": {},
          "execution_count": 3
        }
      ]
    },
    {
      "cell_type": "code",
      "source": [
        "### Checking size\n",
        "### The vector sizes identifies the total number of elements present in the vector\n",
        "\n",
        "D.size"
      ],
      "metadata": {
        "colab": {
          "base_uri": "https://localhost:8080/"
        },
        "id": "hFAiYsV1jXXF",
        "outputId": "55cdbe1b-929a-412d-cfe4-c90682f842e5"
      },
      "execution_count": null,
      "outputs": [
        {
          "output_type": "execute_result",
          "data": {
            "text/plain": [
              "3"
            ]
          },
          "metadata": {},
          "execution_count": 4
        }
      ]
    },
    {
      "cell_type": "code",
      "source": [
        "### Checking dimensions\n",
        "### The vector dimensions identifies the rank of a vector or the dimensions of a vector.\n",
        "\n",
        "D.ndim"
      ],
      "metadata": {
        "colab": {
          "base_uri": "https://localhost:8080/"
        },
        "id": "NhtpgrVhroJ4",
        "outputId": "c9f980da-0cef-4b6c-c77a-9d324cc0ca2c"
      },
      "execution_count": null,
      "outputs": [
        {
          "output_type": "execute_result",
          "data": {
            "text/plain": [
              "2"
            ]
          },
          "metadata": {},
          "execution_count": 5
        }
      ]
    },
    {
      "cell_type": "markdown",
      "source": [
        "#### Addition"
      ],
      "metadata": {
        "id": "EH9GXA88ja0r"
      }
    },
    {
      "cell_type": "markdown",
      "source": [
        "In Addition Rule, add the elements of the matrices according to their index. For this example, if we add vector $A$ and vector $B$, we will have a resulting vector of:"
      ],
      "metadata": {
        "id": "Cg1njtWijcuu"
      }
    },
    {
      "cell_type": "markdown",
      "source": [
        "$$M = 12\\hat{x}+1\\hat{y} \\\\ \\\\or \\\\ \\\\ M = \\begin{bmatrix} 12 \\\\ 1\\end{bmatrix} $$"
      ],
      "metadata": {
        "id": "uCMIBTsnjfSe"
      }
    },
    {
      "cell_type": "markdown",
      "source": [
        "Now, do it in NumPy with different methods."
      ],
      "metadata": {
        "id": "NuPMf7-SjgN-"
      }
    },
    {
      "cell_type": "code",
      "source": [
        "M = np.add(A, B) ## this is the functional method using the numpy library\n",
        "N = np.add(C, D)\n",
        "N"
      ],
      "metadata": {
        "id": "IBj6n40tjiKA",
        "colab": {
          "base_uri": "https://localhost:8080/"
        },
        "outputId": "177928b2-4b81-46c8-dd9d-6352a1b2a710"
      },
      "execution_count": null,
      "outputs": [
        {
          "output_type": "execute_result",
          "data": {
            "text/plain": [
              "array([[ 5],\n",
              "       [-2],\n",
              "       [ 3]])"
            ]
          },
          "metadata": {},
          "execution_count": 6
        }
      ]
    },
    {
      "cell_type": "code",
      "source": [
        "M = A + B   ## this is the explicit method, since Python does a value-reference so it can \n",
        "            ## know that these variables would need to do array operations.\n",
        "M"
      ],
      "metadata": {
        "colab": {
          "base_uri": "https://localhost:8080/"
        },
        "id": "TKMT1ErSjjTu",
        "outputId": "02c69394-1afb-403b-c712-44fadc789e02"
      },
      "execution_count": null,
      "outputs": [
        {
          "output_type": "execute_result",
          "data": {
            "text/plain": [
              "array([12,  1])"
            ]
          },
          "metadata": {},
          "execution_count": 7
        }
      ]
    },
    {
      "cell_type": "code",
      "source": [
        "N = C + D\n",
        "N"
      ],
      "metadata": {
        "colab": {
          "base_uri": "https://localhost:8080/"
        },
        "id": "jdJqoCAbvCp_",
        "outputId": "035f903b-4270-43ce-da52-b645c261cacc"
      },
      "execution_count": null,
      "outputs": [
        {
          "output_type": "execute_result",
          "data": {
            "text/plain": [
              "array([[ 5],\n",
              "       [-2],\n",
              "       [ 3]])"
            ]
          },
          "metadata": {},
          "execution_count": 8
        }
      ]
    },
    {
      "cell_type": "code",
      "source": [
        "pos1 = np.array([3,-1,2])\n",
        "pos2 = np.array([4,6,-5])\n",
        "pos3 = np.array([6,-7,-8])\n",
        "pos4 = np.array([9,-3,1])\n",
        "#E = np.multiply(pos3,pos4)\n",
        "E = pos3 / pos4\n",
        "E"
      ],
      "metadata": {
        "colab": {
          "base_uri": "https://localhost:8080/"
        },
        "id": "y-hzim4UjkrD",
        "outputId": "8202e86d-788e-4e79-ac27-993c48829fa5"
      },
      "execution_count": null,
      "outputs": [
        {
          "output_type": "execute_result",
          "data": {
            "text/plain": [
              "array([ 0.66666667,  2.33333333, -8.        ])"
            ]
          },
          "metadata": {},
          "execution_count": 11
        }
      ]
    },
    {
      "cell_type": "code",
      "source": [
        "#E = pos1 + pos2 + pos3 + pos4\n",
        "E = pos1 + pos2 + pos3 +pos4\n",
        "E"
      ],
      "metadata": {
        "colab": {
          "base_uri": "https://localhost:8080/"
        },
        "id": "Gw5tC8s9vStp",
        "outputId": "5a09c536-9dcc-4b19-8c0b-9e74660c4e37"
      },
      "execution_count": null,
      "outputs": [
        {
          "output_type": "execute_result",
          "data": {
            "text/plain": [
              "array([ 22,  -5, -10])"
            ]
          },
          "metadata": {},
          "execution_count": 12
        }
      ]
    },
    {
      "cell_type": "markdown",
      "source": [
        "##### Try for yourself!"
      ],
      "metadata": {
        "id": "5GwlDlhVjnVU"
      }
    },
    {
      "cell_type": "markdown",
      "source": [
        "Try to implement subtraction, multiplication, and division with vectors $A$ and $B$!"
      ],
      "metadata": {
        "id": "JQSTrLgGjrcf"
      }
    },
    {
      "cell_type": "code",
      "source": [
        "### trying out my code\n",
        "### Subtraction\n",
        "F = np.subtract(A, B)\n",
        "F"
      ],
      "metadata": {
        "id": "4CzdubEXjtVc",
        "colab": {
          "base_uri": "https://localhost:8080/"
        },
        "outputId": "47ae434d-10ab-443d-9089-af4cba789478"
      },
      "execution_count": null,
      "outputs": [
        {
          "output_type": "execute_result",
          "data": {
            "text/plain": [
              "array([-2,  7])"
            ]
          },
          "metadata": {},
          "execution_count": 13
        }
      ]
    },
    {
      "cell_type": "code",
      "source": [
        "### Multiplication\n",
        "G = np.multiply(A, B)\n",
        "G"
      ],
      "metadata": {
        "colab": {
          "base_uri": "https://localhost:8080/"
        },
        "id": "oaEkkkmWwG0n",
        "outputId": "15e64673-3fbe-4765-9a7c-b5385c64491d"
      },
      "execution_count": null,
      "outputs": [
        {
          "output_type": "execute_result",
          "data": {
            "text/plain": [
              "array([ 35, -12])"
            ]
          },
          "metadata": {},
          "execution_count": 14
        }
      ]
    },
    {
      "cell_type": "code",
      "source": [
        "### Division\n",
        "H = np.divide(A, B)\n",
        "H"
      ],
      "metadata": {
        "colab": {
          "base_uri": "https://localhost:8080/"
        },
        "id": "pGLtFW-lwQIq",
        "outputId": "5e8a4069-4068-4f4b-fd4f-ae1bc1f6be95"
      },
      "execution_count": null,
      "outputs": [
        {
          "output_type": "execute_result",
          "data": {
            "text/plain": [
              "array([ 0.71428571, -1.33333333])"
            ]
          },
          "metadata": {},
          "execution_count": 15
        }
      ]
    },
    {
      "cell_type": "markdown",
      "source": [
        "### Scaling"
      ],
      "metadata": {
        "id": "WTZjFB8ojvV9"
      }
    },
    {
      "cell_type": "markdown",
      "source": [
        "Scaling or scalar multiplication takes a scalar value and performs multiplication with a vector. Here is an example:"
      ],
      "metadata": {
        "id": "6Aeao8jujxeY"
      }
    },
    {
      "cell_type": "markdown",
      "source": [
        "$$J = 11 \\cdot A$$\n",
        "\n",
        "---\n",
        "\n"
      ],
      "metadata": {
        "id": "KjWTb7ssjyof"
      }
    },
    {
      "cell_type": "markdown",
      "source": [
        "By using NumPy:"
      ],
      "metadata": {
        "id": "4PajNU5Lj0uP"
      }
    },
    {
      "cell_type": "code",
      "source": [
        "#J = 11 * A\n",
        "J = np.multiply(11,A)\n",
        "J"
      ],
      "metadata": {
        "colab": {
          "base_uri": "https://localhost:8080/"
        },
        "id": "m23Esla2j2vU",
        "outputId": "f245bddf-3f82-4ff2-9044-5667e8925194"
      },
      "execution_count": null,
      "outputs": [
        {
          "output_type": "execute_result",
          "data": {
            "text/plain": [
              "array([55, 44])"
            ]
          },
          "metadata": {},
          "execution_count": 16
        }
      ]
    },
    {
      "cell_type": "markdown",
      "source": [
        "Try to implement scaling with two vectors."
      ],
      "metadata": {
        "id": "ECquj0Cej4nz"
      }
    },
    {
      "cell_type": "code",
      "source": [
        "### trying my codes\n",
        "#T = 12 * S\n",
        "S = np.array([11,-2])\n",
        "V = np.array([10,-9])\n",
        "T = np.multiply(12, S)\n",
        "T"
      ],
      "metadata": {
        "id": "fhPIx72Pj5wJ",
        "colab": {
          "base_uri": "https://localhost:8080/"
        },
        "outputId": "bfdd194b-219f-48d4-c962-43969981dfa9"
      },
      "execution_count": null,
      "outputs": [
        {
          "output_type": "execute_result",
          "data": {
            "text/plain": [
              "array([132, -24])"
            ]
          },
          "metadata": {},
          "execution_count": 17
        }
      ]
    },
    {
      "cell_type": "code",
      "source": [
        "#T = 12 * V\n",
        "T = np.multiply(12, V)\n",
        "T"
      ],
      "metadata": {
        "colab": {
          "base_uri": "https://localhost:8080/"
        },
        "id": "dYTurX5PxvAm",
        "outputId": "c23fa658-3f5a-4b77-ee5a-e0543e6a408f"
      },
      "execution_count": null,
      "outputs": [
        {
          "output_type": "execute_result",
          "data": {
            "text/plain": [
              "array([ 120, -108])"
            ]
          },
          "metadata": {},
          "execution_count": 18
        }
      ]
    },
    {
      "cell_type": "markdown",
      "source": [
        "### MatPlotLib\n"
      ],
      "metadata": {
        "id": "arQII92Nj9ea"
      }
    },
    {
      "cell_type": "markdown",
      "source": [
        "MatPlotLib or MATLab Plotting library is Python's take on MATLabs plotting feature. Matplotlib is a comprehensive library for creating static, animated, and interactive visualizations in Python. It can be used vastly from graping values to visualizing several dimensions of data. "
      ],
      "metadata": {
        "id": "I4MevyUjj-8Y"
      }
    },
    {
      "cell_type": "markdown",
      "source": [
        "#### Visualizing Data"
      ],
      "metadata": {
        "id": "57kntNHgkAmB"
      }
    },
    {
      "cell_type": "markdown",
      "source": [
        "It's not enough just solving these vectors so might need to visualize them. So we'll use MatPlotLib for that. We'll need to import it first."
      ],
      "metadata": {
        "id": "1UGP7llckCdS"
      }
    },
    {
      "cell_type": "code",
      "source": [
        "import matplotlib.pyplot as plt\n",
        "import matplotlib\n",
        "%matplotlib inline"
      ],
      "metadata": {
        "id": "NweOAVIAkEas"
      },
      "execution_count": 33,
      "outputs": []
    },
    {
      "cell_type": "code",
      "source": [
        "X = [4, -2]\n",
        "Y = [-6, 5]\n",
        "plt.scatter(X[0], X[1], label='X', c='purple')\n",
        "plt.scatter(Y[0], Y[1], label='Y', c='fuchsia')\n",
        "plt.grid()\n",
        "plt.legend()\n",
        "plt.show()"
      ],
      "metadata": {
        "colab": {
          "base_uri": "https://localhost:8080/",
          "height": 265
        },
        "id": "JtMjnzTqkFyh",
        "outputId": "7654538b-7b69-409c-cede-451862b894ee"
      },
      "execution_count": 34,
      "outputs": [
        {
          "output_type": "display_data",
          "data": {
            "text/plain": [
              "<Figure size 432x288 with 1 Axes>"
            ],
            "image/png": "[encoded data removed]"
          },
          "metadata": {
            "needs_background": "light"
          }
        }
      ]
    },
    {
      "cell_type": "code",
      "source": [
        "A = np.array([3, -1])\n",
        "B = np.array([3, 5])\n",
        "Magnitude = np.sqrt(np.sum(R**2))\n",
        "plt.title(\"Resultant Vector\\nMagnitude:{}\".format(Magnitude))\n",
        "plt.xlim(-2, 7)\n",
        "plt.ylim(-2, 7)\n",
        "plt.quiver(0, 0, A[0], A[1], angles='xy', scale_units='xy', scale=1, color='blue')\n",
        "plt.quiver(A[0], A[1], B[0], B[1], angles='xy', scale_units='xy', scale=1, color='green')\n",
        "R = A + B\n",
        "plt.quiver(0, 0, R[0], R[1], angles='xy', scale_units='xy', scale=1, color='red')\n",
        "plt.grid()\n",
        "plt.show()\n",
        "print(R)\n",
        "Magnitude = np.sqrt(np.sum(R**2))\n",
        "print(Magnitude)\n",
        "Slope = R[1]/R[0]\n",
        "print(Slope)\n",
        "Angle = (np.arctan(Slope))*(180/np.pi)\n",
        "print(Angle)"
      ],
      "metadata": {
        "colab": {
          "base_uri": "https://localhost:8080/",
          "height": 365
        },
        "id": "_bP9B4wRkImN",
        "outputId": "084dcced-325a-4dd5-ad4b-86cb4cd4bc16"
      },
      "execution_count": 35,
      "outputs": [
        {
          "output_type": "display_data",
          "data": {
            "text/plain": [
              "<Figure size 432x288 with 1 Axes>"
            ],
            "image/png": "[encoded data removed]"
          },
          "metadata": {
            "needs_background": "light"
          }
        },
        {
          "output_type": "stream",
          "name": "stdout",
          "text": [
            "[6 4]\n",
            "7.211102550927978\n",
            "0.6666666666666666\n",
            "33.690067525979785\n"
          ]
        }
      ]
    },
    {
      "cell_type": "code",
      "source": [
        "n = A.shape[0]\n",
        "plt.xlim(-10, 10)\n",
        "plt.ylim(-10, 10)\n",
        "plt.quiver(0,0, A[0], A[1], angles='xy', scale_units='xy',scale=1)\n",
        "plt.quiver(A[0],A[1], B[0], B[1], angles='xy', scale_units='xy',scale=1)\n",
        "plt.quiver(0,0, R[0], R[1], angles='xy', scale_units='xy',scale=1)\n",
        "plt.show()"
      ],
      "metadata": {
        "colab": {
          "base_uri": "https://localhost:8080/",
          "height": 269
        },
        "id": "7dJ3Snx9kKP_",
        "outputId": "414d78ec-e45f-4f92-81af-bfea992741cd"
      },
      "execution_count": 36,
      "outputs": [
        {
          "output_type": "display_data",
          "data": {
            "text/plain": [
              "<Figure size 432x288 with 1 Axes>"
            ],
            "image/png": "[encoded data removed]"
          },
          "metadata": {
            "needs_background": "light"
          }
        }
      ]
    },
    {
      "cell_type": "markdown",
      "source": [
        "Try plotting Three Vectors and show the Resultant Vector as a result.\n",
        "Use Head to Tail Method."
      ],
      "metadata": {
        "id": "J5CeiMoCkLm8"
      }
    },
    {
      "cell_type": "code",
      "source": [
        "### Try Plotting Three Vectors\n",
        "K = np.array([7, 10])\n",
        "M = np.array([5, 7])\n",
        "S = K + M\n",
        "G = np.array([-8, 15])\n",
        "R = G + K + M\n",
        "plt.title(\"Resultant Vector\\nMagnitude: {}\".format(Magnitude, R))\n",
        "plt.xlim(-5, 25)\n",
        "plt.ylim(-5, 35)\n",
        "plt.quiver(0, 0, K[0], K[1], angles='xy', scale_units='xy', scale=1, color='blue')\n",
        "plt.quiver(K[0], K[1], M[0], M[1], angles='xy', scale_units='xy', scale=1, color='teal')\n",
        "plt.quiver(S[0], S[1], G[0], G[1], angles='xy', scale_units='xy', scale=1, color='green')\n",
        "plt.quiver(0, 0, R[0], R[1], angles='xy', scale_units='xy', scale=1, color='brown')\n",
        "plt.grid()\n",
        "plt.show()\n",
        "print(R)\n",
        "magnitude = np.sqrt(np.sum(R**2))\n",
        "print(magnitude)\n",
        "Slope = R[1]/R[0]\n",
        "print(Slope)\n",
        "Angle = (np.arctan(Slope))*(180/np.pi)\n",
        "print(Angle)"
      ],
      "metadata": {
        "id": "nYf_9H2gkMG4",
        "colab": {
          "base_uri": "https://localhost:8080/",
          "height": 365
        },
        "outputId": "ec5e0f45-efd8-4e4a-a557-71ccff558571"
      },
      "execution_count": 37,
      "outputs": [
        {
          "output_type": "display_data",
          "data": {
            "text/plain": [
              "<Figure size 432x288 with 1 Axes>"
            ],
            "image/png": "[encoded data removed]"
          },
          "metadata": {
            "needs_background": "light"
          }
        },
        {
          "output_type": "stream",
          "name": "stdout",
          "text": [
            "[ 4 32]\n",
            "32.2490309931942\n",
            "8.0\n",
            "82.8749836510982\n"
          ]
        }
      ]
    },
    {
      "cell_type": "code",
      "source": [
        "n = M.shape[0]\n",
        "plt.xlim(-5, 25)\n",
        "plt.ylim(-5, 35)\n",
        "plt.quiver(0, 0, K[0], K[1], angles='xy', scale_units='xy', scale=1, color='blue')\n",
        "plt.quiver(K[0], K[1], M[0], M[1], angles='xy', scale_units='xy', scale=1, color='teal')\n",
        "plt.quiver(S[0], S[1], G[0], G[1], angles='xy', scale_units='xy', scale=1, color='green')\n",
        "plt.quiver(0, 0, R[0], R[1], angles='xy', scale_units='xy', scale=1, color='brown')\n",
        "plt.show()"
      ],
      "metadata": {
        "colab": {
          "base_uri": "https://localhost:8080/",
          "height": 269
        },
        "id": "p-zCB7SA-nrq",
        "outputId": "43dde7d2-5684-403a-8310-01a7b4870215"
      },
      "execution_count": 38,
      "outputs": [
        {
          "output_type": "display_data",
          "data": {
            "text/plain": [
              "<Figure size 432x288 with 1 Axes>"
            ],
            "image/png": "[encoded data removed]"
          },
          "metadata": {
            "needs_background": "light"
          }
        }
      ]
    }
  ]
}