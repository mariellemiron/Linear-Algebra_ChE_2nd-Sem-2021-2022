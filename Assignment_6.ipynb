{
  "nbformat": 4,
  "nbformat_minor": 0,
  "metadata": {
    "colab": {
      "name": "Assignment 6.ipynb",
      "provenance": [],
      "include_colab_link": true
    },
    "kernelspec": {
      "name": "python3",
      "display_name": "Python 3"
    },
    "language_info": {
      "name": "python"
    }
  },
  "cells": [
    {
      "cell_type": "markdown",
      "metadata": {
        "id": "view-in-github",
        "colab_type": "text"
      },
      "source": [
        "<a href=\"https://colab.research.google.com/github/mariellemiron/Linear-Algebra_ChE_2nd-Sem-2021-2022/blob/main/Assignment_6.ipynb\" target=\"_parent\"><img src=\"https://colab.research.google.com/assets/colab-badge.svg\" alt=\"Open In Colab\"/></a>"
      ]
    },
    {
      "cell_type": "markdown",
      "source": [
        "# Linear Algebra for ChE\n",
        "## Laboratory 6 : Matrix Operations"
      ],
      "metadata": {
        "id": "1eV26_aYTrTA"
      }
    },
    {
      "cell_type": "markdown",
      "source": [
        "## Objectives\n",
        "In this activity, the students will be able to acquire the follow:\n",
        "1. Familiarize fundamental matrix operations.\n",
        "2. Apply the operations to solve intermediate equations.\n",
        "3. Apply matrix algebra in engineering solutions."
      ],
      "metadata": {
        "id": "zlGP-Q4BTvcu"
      }
    },
    {
      "cell_type": "markdown",
      "source": [
        "## Discussion"
      ],
      "metadata": {
        "id": "3_IhtAZ1Tfi0"
      }
    },
    {
      "cell_type": "code",
      "execution_count": 2,
      "metadata": {
        "id": "CCQkS1eLN6xI"
      },
      "outputs": [],
      "source": [
        "import numpy as np\n",
        "import matplotlib.pyplot as plt\n",
        "%matplotlib inline"
      ]
    },
    {
      "cell_type": "markdown",
      "source": [
        "## Transposition"
      ],
      "metadata": {
        "id": "DAPjO3M1T6cM"
      }
    },
    {
      "cell_type": "markdown",
      "source": [
        "Transposition is a fundamental operation in matrix algebra. The values of a matrix's elements are flipped over its diagonals to transpose it. The rows and columns of the original matrix will be switched as a result of this. As a result, the transpose of a matrix $C$ is denoted by $C^T$. This may now be done programmatically with `np.transpose()` or the `T` function. For instance:"
      ],
      "metadata": {
        "id": "jtvvEY-w5Ru5"
      }
    },
    {
      "cell_type": "markdown",
      "source": [
        "$$A = \\begin{bmatrix} 5 & -1 & 2\\\\0 & -3 &2 \\\\ 1 & 3 & -9\\end{bmatrix} $$"
      ],
      "metadata": {
        "id": "IGa-28MkT-vf"
      }
    },
    {
      "cell_type": "markdown",
      "source": [
        "$$ A^T = \\begin{bmatrix} 5 & 0 & 1\\\\-1 & -3 &3 \\\\ 2& 2 & -9\\end{bmatrix}$$"
      ],
      "metadata": {
        "id": "aPnbLGE9UMqh"
      }
    },
    {
      "cell_type": "code",
      "source": [
        "A = np.array([\n",
        "    [2 ,5, 0],\n",
        "    [4, -9, 3],\n",
        "    [1, 1, 7]\n",
        "])\n",
        "A"
      ],
      "metadata": {
        "colab": {
          "base_uri": "https://localhost:8080/"
        },
        "id": "FUAFw0NlVQZk",
        "outputId": "e593b61e-4862-49a9-ca4c-8f9e8176f4a7"
      },
      "execution_count": null,
      "outputs": [
        {
          "output_type": "execute_result",
          "data": {
            "text/plain": [
              "array([[ 2,  5,  0],\n",
              "       [ 4, -9,  3],\n",
              "       [ 1,  1,  7]])"
            ]
          },
          "metadata": {},
          "execution_count": 4
        }
      ]
    },
    {
      "cell_type": "code",
      "source": [
        "AT1 = np.transpose(A)\n",
        "AT1"
      ],
      "metadata": {
        "colab": {
          "base_uri": "https://localhost:8080/"
        },
        "id": "5diWWrhkVWeP",
        "outputId": "8a586961-535d-46df-8778-2c36ea8e5555"
      },
      "execution_count": null,
      "outputs": [
        {
          "output_type": "execute_result",
          "data": {
            "text/plain": [
              "array([[ 2,  4,  1],\n",
              "       [ 5, -9,  1],\n",
              "       [ 0,  3,  7]])"
            ]
          },
          "metadata": {},
          "execution_count": 5
        }
      ]
    },
    {
      "cell_type": "code",
      "source": [
        "AT2 = A.T\n",
        "AT2"
      ],
      "metadata": {
        "colab": {
          "base_uri": "https://localhost:8080/"
        },
        "id": "kAcy10CZVg7r",
        "outputId": "e917e456-5733-4665-86a1-774390c02106"
      },
      "execution_count": null,
      "outputs": [
        {
          "output_type": "execute_result",
          "data": {
            "text/plain": [
              "array([[ 2,  4,  1],\n",
              "       [ 5, -9,  1],\n",
              "       [ 0,  3,  7]])"
            ]
          },
          "metadata": {},
          "execution_count": 6
        }
      ]
    },
    {
      "cell_type": "code",
      "source": [
        "np.array_equiv(AT1, AT2)"
      ],
      "metadata": {
        "colab": {
          "base_uri": "https://localhost:8080/"
        },
        "id": "jGbPUgKzWEj1",
        "outputId": "f53ec4b6-8973-4a05-9d98-5e9475724d6c"
      },
      "execution_count": null,
      "outputs": [
        {
          "output_type": "execute_result",
          "data": {
            "text/plain": [
              "True"
            ]
          },
          "metadata": {},
          "execution_count": 7
        }
      ]
    },
    {
      "cell_type": "code",
      "source": [
        "B = np.array([\n",
        "    [9,1,-9],\n",
        "    [5,-8,5],\n",
        "])\n",
        "B.shape"
      ],
      "metadata": {
        "colab": {
          "base_uri": "https://localhost:8080/"
        },
        "id": "N-1_oLM9WHGd",
        "outputId": "91208071-0140-4109-ed64-53ecaac9d14e"
      },
      "execution_count": null,
      "outputs": [
        {
          "output_type": "execute_result",
          "data": {
            "text/plain": [
              "(2, 3)"
            ]
          },
          "metadata": {},
          "execution_count": 8
        }
      ]
    },
    {
      "cell_type": "code",
      "source": [
        "np.transpose(B).shape"
      ],
      "metadata": {
        "colab": {
          "base_uri": "https://localhost:8080/"
        },
        "id": "fx7M78ZFWR74",
        "outputId": "b7990e31-a712-4700-d88d-38fb901b42bb"
      },
      "execution_count": null,
      "outputs": [
        {
          "output_type": "execute_result",
          "data": {
            "text/plain": [
              "(3, 2)"
            ]
          },
          "metadata": {},
          "execution_count": 9
        }
      ]
    },
    {
      "cell_type": "code",
      "source": [
        "B.T.shape"
      ],
      "metadata": {
        "colab": {
          "base_uri": "https://localhost:8080/"
        },
        "id": "3tG5mcGbWUE0",
        "outputId": "2950b050-e032-46f6-e033-9f57f926ee2e"
      },
      "execution_count": null,
      "outputs": [
        {
          "output_type": "execute_result",
          "data": {
            "text/plain": [
              "(3, 2)"
            ]
          },
          "metadata": {},
          "execution_count": 10
        }
      ]
    },
    {
      "cell_type": "markdown",
      "source": [
        "## Test / Trial"
      ],
      "metadata": {
        "id": "JK9LteIDWgLW"
      }
    },
    {
      "cell_type": "code",
      "source": [
        "M=np.array([\n",
        "    [4,6,4,5],\n",
        "    [8,9,7,-9]        \n",
        "])\n",
        "M.shape"
      ],
      "metadata": {
        "colab": {
          "base_uri": "https://localhost:8080/"
        },
        "id": "KFss-T2OWhVS",
        "outputId": "a8ac1a34-50ab-4d73-9d66-068b1e21a971"
      },
      "execution_count": null,
      "outputs": [
        {
          "output_type": "execute_result",
          "data": {
            "text/plain": [
              "(2, 4)"
            ]
          },
          "metadata": {},
          "execution_count": 11
        }
      ]
    },
    {
      "cell_type": "code",
      "source": [
        "np.transpose(M).shape"
      ],
      "metadata": {
        "colab": {
          "base_uri": "https://localhost:8080/"
        },
        "id": "6BoN7ysKWwwT",
        "outputId": "84d3da79-7cde-4faf-9b78-f7dc92dc67fb"
      },
      "execution_count": null,
      "outputs": [
        {
          "output_type": "execute_result",
          "data": {
            "text/plain": [
              "(4, 2)"
            ]
          },
          "metadata": {},
          "execution_count": 12
        }
      ]
    },
    {
      "cell_type": "code",
      "source": [
        "M.T.shape"
      ],
      "metadata": {
        "colab": {
          "base_uri": "https://localhost:8080/"
        },
        "id": "3RhpBPebW0FZ",
        "outputId": "4582e5d6-4cb4-4808-814c-20f8999d7974"
      },
      "execution_count": null,
      "outputs": [
        {
          "output_type": "execute_result",
          "data": {
            "text/plain": [
              "(4, 2)"
            ]
          },
          "metadata": {},
          "execution_count": 13
        }
      ]
    },
    {
      "cell_type": "code",
      "source": [
        "MT = M.T\n",
        "MT"
      ],
      "metadata": {
        "colab": {
          "base_uri": "https://localhost:8080/"
        },
        "id": "iQYqGjx_W2sD",
        "outputId": "5d453a5d-20f6-4e83-c4ea-dc6b3935301e"
      },
      "execution_count": null,
      "outputs": [
        {
          "output_type": "execute_result",
          "data": {
            "text/plain": [
              "array([[ 4,  8],\n",
              "       [ 6,  9],\n",
              "       [ 4,  7],\n",
              "       [ 5, -9]])"
            ]
          },
          "metadata": {},
          "execution_count": 14
        }
      ]
    },
    {
      "cell_type": "markdown",
      "source": [
        "## Dot Product / Inner Product"
      ],
      "metadata": {
        "id": "zUI2M_OAXEDr"
      }
    },
    {
      "cell_type": "markdown",
      "source": [
        "If you remember the dot product from the laboratory activity, we'll try to do the same thing with matrices. We'll retrieve the sum of products of the vectors by row-column pairings in matrix dot product. So, if we have two matrices, $X$ and $Y$, we can deduce:\n",
        "\n",
        "$$X = \\begin{bmatrix}x_{(0,0)}&x_{(0,1)}\\\\ x_{(1,0)}&x_{(1,1)}\\end{bmatrix}, Y = \\begin{bmatrix}y_{(0,0)}&y_{(0,1)}\\\\ y_{(1,0)}&y_{(1,1)}\\end{bmatrix}$$\n",
        "\n",
        "The dot product will then be computed as:\n",
        "$$X \\cdot Y= \\begin{bmatrix} x_{(0,0)}*y_{(0,0)} + x_{(0,1)}*y_{(1,0)} & x_{(0,0)}*y_{(0,1)} + x_{(0,1)}*y_{(1,1)} \\\\  x_{(1,0)}*y_{(0,0)} + x_{(1,1)}*y_{(1,0)} & x_{(1,0)}*y_{(0,1)} + x_{(1,1)}*y_{(1,1)}\n",
        "\\end{bmatrix}$$\n",
        "\n",
        "So if we assign values to $X$ and $Y$:\n",
        "$$X = \\begin{bmatrix}1&2\\\\ 0&1\\end{bmatrix}, Y = \\begin{bmatrix}-1&0\\\\ 2&2\\end{bmatrix}$$\n",
        "\n",
        "$$X \\cdot Y= \\begin{bmatrix} 1*-1 + 2*2 & 1*0 + 2*2 \\\\  0*-1 + 1*2 & 0*0 + 1*2 \\end{bmatrix} = \\begin{bmatrix} 3 & 4 \\\\2 & 2 \\end{bmatrix}$$\n",
        "\n",
        "Using np.dot(), np.matmul(), or the @ operator."
      ],
      "metadata": {
        "id": "sVI2NfzpXNq_"
      }
    },
    {
      "cell_type": "code",
      "source": [
        "Q = np.array([\n",
        "    [5,4],\n",
        "    [2,0]\n",
        "])\n",
        "W = np.array([\n",
        "    [-5,-4],\n",
        "    [-2,2]\n",
        "])"
      ],
      "metadata": {
        "id": "EujOgrumXSx5"
      },
      "execution_count": null,
      "outputs": []
    },
    {
      "cell_type": "code",
      "source": [
        "np.array_equiv(Q, W)"
      ],
      "metadata": {
        "colab": {
          "base_uri": "https://localhost:8080/"
        },
        "id": "Sh1lQJi1XV7L",
        "outputId": "837c3155-de39-4667-9cb6-bf37fa05121c"
      },
      "execution_count": null,
      "outputs": [
        {
          "output_type": "execute_result",
          "data": {
            "text/plain": [
              "False"
            ]
          },
          "metadata": {},
          "execution_count": 16
        }
      ]
    },
    {
      "cell_type": "code",
      "source": [
        "np.dot(Q,W)"
      ],
      "metadata": {
        "colab": {
          "base_uri": "https://localhost:8080/"
        },
        "id": "ki309bQlXhNb",
        "outputId": "1bdd5be9-7829-45f7-f377-6b0a218b843c"
      },
      "execution_count": null,
      "outputs": [
        {
          "output_type": "execute_result",
          "data": {
            "text/plain": [
              "array([[-33, -12],\n",
              "       [-10,  -8]])"
            ]
          },
          "metadata": {},
          "execution_count": 17
        }
      ]
    },
    {
      "cell_type": "code",
      "source": [
        "Q.dot(W)"
      ],
      "metadata": {
        "colab": {
          "base_uri": "https://localhost:8080/"
        },
        "id": "84KaZ1adXjV3",
        "outputId": "357d2ab1-f9a2-427d-dca1-425ee98d060f"
      },
      "execution_count": null,
      "outputs": [
        {
          "output_type": "execute_result",
          "data": {
            "text/plain": [
              "array([[-33, -12],\n",
              "       [-10,  -8]])"
            ]
          },
          "metadata": {},
          "execution_count": 18
        }
      ]
    },
    {
      "cell_type": "code",
      "source": [
        "Q @ W"
      ],
      "metadata": {
        "colab": {
          "base_uri": "https://localhost:8080/"
        },
        "id": "VCk3HBuJXk-h",
        "outputId": "5bf327e1-28b7-4a13-f793-06701782f047"
      },
      "execution_count": null,
      "outputs": [
        {
          "output_type": "execute_result",
          "data": {
            "text/plain": [
              "array([[-33, -12],\n",
              "       [-10,  -8]])"
            ]
          },
          "metadata": {},
          "execution_count": 19
        }
      ]
    },
    {
      "cell_type": "code",
      "source": [
        "np.matmul(Q,W)"
      ],
      "metadata": {
        "colab": {
          "base_uri": "https://localhost:8080/"
        },
        "id": "0D68lnSRXm6F",
        "outputId": "1d3263d1-7b34-46a6-cfd3-8e500786843f"
      },
      "execution_count": null,
      "outputs": [
        {
          "output_type": "execute_result",
          "data": {
            "text/plain": [
              "array([[-33, -12],\n",
              "       [-10,  -8]])"
            ]
          },
          "metadata": {},
          "execution_count": 22
        }
      ]
    },
    {
      "cell_type": "code",
      "source": [
        "D = np.array([\n",
        "    [0,1,2],\n",
        "    [-3,-4,-5],\n",
        "    [6,7,8]\n",
        "])\n",
        "K = np.array([\n",
        "    [-9,-10,-11],\n",
        "    [0,1,2],\n",
        "    [-3,4,-5]\n",
        "])"
      ],
      "metadata": {
        "id": "5WX745psXo5y"
      },
      "execution_count": null,
      "outputs": []
    },
    {
      "cell_type": "code",
      "source": [
        "D @ K"
      ],
      "metadata": {
        "colab": {
          "base_uri": "https://localhost:8080/"
        },
        "id": "YlP2GwRJX255",
        "outputId": "f6b473f2-ccbf-4416-e5e0-d451ee762579"
      },
      "execution_count": null,
      "outputs": [
        {
          "output_type": "execute_result",
          "data": {
            "text/plain": [
              "array([[ -6,   9,  -8],\n",
              "       [ 42,   6,  50],\n",
              "       [-78, -21, -92]])"
            ]
          },
          "metadata": {},
          "execution_count": 24
        }
      ]
    },
    {
      "cell_type": "code",
      "source": [
        "D.dot(K)"
      ],
      "metadata": {
        "colab": {
          "base_uri": "https://localhost:8080/"
        },
        "id": "QGTfSN-pX4ky",
        "outputId": "2a77ca2b-5fbb-410b-af0c-179abdb7f11c"
      },
      "execution_count": null,
      "outputs": [
        {
          "output_type": "execute_result",
          "data": {
            "text/plain": [
              "array([[ -6,   9,  -8],\n",
              "       [ 42,   6,  50],\n",
              "       [-78, -21, -92]])"
            ]
          },
          "metadata": {},
          "execution_count": 25
        }
      ]
    },
    {
      "cell_type": "code",
      "source": [
        "np.matmul(D, K)"
      ],
      "metadata": {
        "colab": {
          "base_uri": "https://localhost:8080/"
        },
        "id": "9upWySebYDmE",
        "outputId": "f8d46ec8-0fcb-42bb-f563-e03d23725792"
      },
      "execution_count": null,
      "outputs": [
        {
          "output_type": "execute_result",
          "data": {
            "text/plain": [
              "array([[ -6,   9,  -8],\n",
              "       [ 42,   6,  50],\n",
              "       [-78, -21, -92]])"
            ]
          },
          "metadata": {},
          "execution_count": 26
        }
      ]
    },
    {
      "cell_type": "code",
      "source": [
        "np.dot(D, K)"
      ],
      "metadata": {
        "colab": {
          "base_uri": "https://localhost:8080/"
        },
        "id": "95_N8Ov0YGo2",
        "outputId": "60616806-77ec-4c20-c0df-45ace5b07606"
      },
      "execution_count": null,
      "outputs": [
        {
          "output_type": "execute_result",
          "data": {
            "text/plain": [
              "array([[ -6,   9,  -8],\n",
              "       [ 42,   6,  50],\n",
              "       [-78, -21, -92]])"
            ]
          },
          "metadata": {},
          "execution_count": 27
        }
      ]
    },
    {
      "cell_type": "markdown",
      "source": [
        "In comparison to vector dot products, matrix dot products have additional rules. There are fewer limits because vector dot products are only one dimensional. Since we're dealing with Rank 2 vectors, there are a few rules to keep in mind:"
      ],
      "metadata": {
        "id": "YXZ3DCgM4pMq"
      }
    },
    {
      "cell_type": "markdown",
      "source": [
        "### Rule 1: The inner dimensions of the two matrices in question must be the same. "
      ],
      "metadata": {
        "id": "tQKMcXP2ZZcU"
      }
    },
    {
      "cell_type": "markdown",
      "source": [
        "Assume you have a matrix A with the shape $(a,b)$, where $a$ and $b$ are any integers. Matrix $B$ should have the shape $(b,c)$, where $b$ and $c$ are any integers, if we want to do a dot product between A and another matrix $B$. As a result, for the following matrices:\n",
        "\n",
        "$$A = \\begin{bmatrix}2&4\\\\5&-2\\\\0&1\\end{bmatrix}, B = \\begin{bmatrix}1&1\\\\3&3\\\\-1&-2\\end{bmatrix}, C = \\begin{bmatrix}0&1&1\\\\1&1&2\\end{bmatrix}$$\n",
        "\n",
        "So in this case $A$ has a shape of $(3,2)$, $B$ has a shape of $(3,2)$ and $C$ has a shape of $(2,3)$. So the only matrix pairs that is eligible to perform dot product is matrices $A \\cdot C$, or $B \\cdot C$.  "
      ],
      "metadata": {
        "id": "4Wf3XD724tOI"
      }
    },
    {
      "cell_type": "code",
      "source": [
        "X = np.array([\n",
        "    [9, 9,9,4],\n",
        "    [8, -7,4,7],\n",
        "    [-5, 6,2,1]\n",
        "])\n",
        "Y = np.array([\n",
        "    [5,-5,7,4],\n",
        "    [4,-3,1,5],\n",
        "    [2,0,-1,9]\n",
        "])\n",
        "Z = np.array([\n",
        "    [0,1,1],\n",
        "    [1,1,2],\n",
        "    [0,5,9],\n",
        "    [7,1,2]\n",
        "])\n",
        "print(X.shape)\n",
        "print(Y.shape)\n",
        "print(Z.shape)"
      ],
      "metadata": {
        "colab": {
          "base_uri": "https://localhost:8080/"
        },
        "id": "BMg10X5gZc6n",
        "outputId": "f8d5ecf9-0426-4109-c045-d79e2f7c6655"
      },
      "execution_count": null,
      "outputs": [
        {
          "output_type": "stream",
          "name": "stdout",
          "text": [
            "(3, 4)\n",
            "(3, 4)\n",
            "(4, 3)\n"
          ]
        }
      ]
    },
    {
      "cell_type": "code",
      "source": [
        "X @ Z"
      ],
      "metadata": {
        "colab": {
          "base_uri": "https://localhost:8080/"
        },
        "id": "DSJ3OF_ZZyDK",
        "outputId": "fcfd6b3b-b728-4d06-8561-20d3e9e22e85"
      },
      "execution_count": null,
      "outputs": [
        {
          "output_type": "execute_result",
          "data": {
            "text/plain": [
              "array([[ 37,  67, 116],\n",
              "       [ 42,  28,  44],\n",
              "       [ 13,  12,  27]])"
            ]
          },
          "metadata": {},
          "execution_count": 29
        }
      ]
    },
    {
      "cell_type": "code",
      "source": [
        "Y @ Z"
      ],
      "metadata": {
        "colab": {
          "base_uri": "https://localhost:8080/"
        },
        "id": "RQRziWdAZ7LF",
        "outputId": "4321de28-9000-4018-ce62-95b30829317f"
      },
      "execution_count": null,
      "outputs": [
        {
          "output_type": "execute_result",
          "data": {
            "text/plain": [
              "array([[23, 39, 66],\n",
              "       [32, 11, 17],\n",
              "       [63,  6, 11]])"
            ]
          },
          "metadata": {},
          "execution_count": 30
        }
      ]
    },
    {
      "cell_type": "code",
      "source": [
        "X @ Y"
      ],
      "metadata": {
        "colab": {
          "base_uri": "https://localhost:8080/",
          "height": 183
        },
        "id": "5-u6vlwvaFHp",
        "outputId": "5efb5c1c-60fb-4947-e0d2-e61f4fe6dff0"
      },
      "execution_count": null,
      "outputs": [
        {
          "output_type": "error",
          "ename": "ValueError",
          "evalue": "ignored",
          "traceback": [
            "\u001b[0;31m---------------------------------------------------------------------------\u001b[0m",
            "\u001b[0;31mValueError\u001b[0m                                Traceback (most recent call last)",
            "\u001b[0;32m<ipython-input-31-7db1014e61e3>\u001b[0m in \u001b[0;36m<module>\u001b[0;34m()\u001b[0m\n\u001b[0;32m----> 1\u001b[0;31m \u001b[0mX\u001b[0m \u001b[0;34m@\u001b[0m \u001b[0mY\u001b[0m\u001b[0;34m\u001b[0m\u001b[0;34m\u001b[0m\u001b[0m\n\u001b[0m",
            "\u001b[0;31mValueError\u001b[0m: matmul: Input operand 1 has a mismatch in its core dimension 0, with gufunc signature (n?,k),(k,m?)->(n?,m?) (size 3 is different from 4)"
          ]
        }
      ]
    },
    {
      "cell_type": "markdown",
      "source": [
        "If you would notice the shape of the dot product changed and its shape is not the same as any of the matrices we used. The shape of a dot product is actually derived from the shapes of the matrices used. So recall matrix $A$ with a shape of $(a,b)$ and matrix $B$ with a shape of $(b,c)$, $A \\cdot B$ should have a shape $(a,c)$."
      ],
      "metadata": {
        "id": "T__mvkEgaR4c"
      }
    },
    {
      "cell_type": "code",
      "source": [
        "X @ Y.T"
      ],
      "metadata": {
        "colab": {
          "base_uri": "https://localhost:8080/"
        },
        "id": "NTSDwVcDaSgn",
        "outputId": "e00d0206-67ad-4af5-a7a2-bf0951dc16c9"
      },
      "execution_count": null,
      "outputs": [
        {
          "output_type": "execute_result",
          "data": {
            "text/plain": [
              "array([[ 79,  38,  45],\n",
              "       [131,  92,  75],\n",
              "       [-37, -31,  -3]])"
            ]
          },
          "metadata": {},
          "execution_count": 32
        }
      ]
    },
    {
      "cell_type": "code",
      "source": [
        "M = np.array([\n",
        "    [9,-8,7,-6]\n",
        "])\n",
        "G = np.array([\n",
        "    [5,-4,3,-2]\n",
        "])\n",
        "print(M.shape)\n",
        "print(G.shape)"
      ],
      "metadata": {
        "colab": {
          "base_uri": "https://localhost:8080/"
        },
        "id": "RGmTHgueaYPd",
        "outputId": "e04c5568-2a7d-49ff-a8f2-d734dee924ae"
      },
      "execution_count": null,
      "outputs": [
        {
          "output_type": "stream",
          "name": "stdout",
          "text": [
            "(1, 4)\n",
            "(1, 4)\n"
          ]
        }
      ]
    },
    {
      "cell_type": "code",
      "source": [
        "G.T @ M"
      ],
      "metadata": {
        "colab": {
          "base_uri": "https://localhost:8080/"
        },
        "id": "jGG9HpIIakmA",
        "outputId": "4039e86b-8cde-420a-8b08-51a4bd57b0c5"
      },
      "execution_count": null,
      "outputs": [
        {
          "output_type": "execute_result",
          "data": {
            "text/plain": [
              "array([[ 45, -40,  35, -30],\n",
              "       [-36,  32, -28,  24],\n",
              "       [ 27, -24,  21, -18],\n",
              "       [-18,  16, -14,  12]])"
            ]
          },
          "metadata": {},
          "execution_count": 34
        }
      ]
    },
    {
      "cell_type": "code",
      "source": [
        "M @ G.T"
      ],
      "metadata": {
        "colab": {
          "base_uri": "https://localhost:8080/"
        },
        "id": "2Nrl1vU9an8j",
        "outputId": "1d30a760-bb8e-4a3f-e072-f9f2ff31b9cc"
      },
      "execution_count": null,
      "outputs": [
        {
          "output_type": "execute_result",
          "data": {
            "text/plain": [
              "array([[110]])"
            ]
          },
          "metadata": {},
          "execution_count": 35
        }
      ]
    },
    {
      "cell_type": "markdown",
      "source": [
        "### Rule 2: Dot Product has special properties"
      ],
      "metadata": {
        "id": "dIHpZyJ6axeY"
      }
    },
    {
      "cell_type": "markdown",
      "source": [
        "Dot products are common in matrix algebra, which means they have various distinct qualities that should be taken into account while formulating solutions:\n",
        " 1. $A \\cdot B \\neq B \\cdot A$\n",
        " 2. $A \\cdot (B \\cdot C) = (A \\cdot B) \\cdot C$\n",
        " 3. $A\\cdot(B+C) = A\\cdot B + A\\cdot C$\n",
        " 4. $(B+C)\\cdot A = B\\cdot A + C\\cdot A$\n",
        " 5. $A\\cdot I = A$\n",
        " 6. $A\\cdot \\emptyset = \\emptyset$ "
      ],
      "metadata": {
        "id": "fePYlNmV5aia"
      }
    },
    {
      "cell_type": "code",
      "source": [
        "A = np.array([\n",
        "    [1,2,3],\n",
        "    [4,5,6],\n",
        "    [9,8,7]\n",
        "])\n",
        "B = np.array([\n",
        "    [9,7,8],\n",
        "    [8,7,9],\n",
        "    [2,3,5]\n",
        "])\n",
        "C = np.array([\n",
        "    [8,7,8],\n",
        "    [6,5,4],\n",
        "    [3,8,7]\n",
        "])"
      ],
      "metadata": {
        "id": "i-ZAKu3oa0pA"
      },
      "execution_count": null,
      "outputs": []
    },
    {
      "cell_type": "code",
      "source": [
        "np.eye(3)"
      ],
      "metadata": {
        "colab": {
          "base_uri": "https://localhost:8080/"
        },
        "id": "fAR12wUAbMcY",
        "outputId": "5be759d4-c241-4fe2-e8da-529ddcd09067"
      },
      "execution_count": null,
      "outputs": [
        {
          "output_type": "execute_result",
          "data": {
            "text/plain": [
              "array([[1., 0., 0.],\n",
              "       [0., 1., 0.],\n",
              "       [0., 0., 1.]])"
            ]
          },
          "metadata": {},
          "execution_count": 37
        }
      ]
    },
    {
      "cell_type": "code",
      "source": [
        "A.dot(np.eye(3))"
      ],
      "metadata": {
        "colab": {
          "base_uri": "https://localhost:8080/"
        },
        "id": "msNDw69tbPLk",
        "outputId": "31dd63a3-58a0-4757-ec46-eef47d225cb0"
      },
      "execution_count": null,
      "outputs": [
        {
          "output_type": "execute_result",
          "data": {
            "text/plain": [
              "array([[1., 2., 3.],\n",
              "       [4., 5., 6.],\n",
              "       [9., 8., 7.]])"
            ]
          },
          "metadata": {},
          "execution_count": 38
        }
      ]
    },
    {
      "cell_type": "code",
      "source": [
        "np.array_equal(A@B, B@A)"
      ],
      "metadata": {
        "colab": {
          "base_uri": "https://localhost:8080/"
        },
        "id": "MjI4qgEfbRAa",
        "outputId": "0f253f87-cb93-45a3-ef0a-59e46319f848"
      },
      "execution_count": null,
      "outputs": [
        {
          "output_type": "execute_result",
          "data": {
            "text/plain": [
              "False"
            ]
          },
          "metadata": {},
          "execution_count": 39
        }
      ]
    },
    {
      "cell_type": "code",
      "source": [
        "D = A @ (B @ C)\n",
        "D"
      ],
      "metadata": {
        "colab": {
          "base_uri": "https://localhost:8080/"
        },
        "id": "SpUPRuhBbUDx",
        "outputId": "50759849-3ab6-46d7-f4a9-572ad271ca01"
      },
      "execution_count": null,
      "outputs": [
        {
          "output_type": "execute_result",
          "data": {
            "text/plain": [
              "array([[ 551,  695,  655],\n",
              "       [1511, 1877, 1777],\n",
              "       [2649, 3245, 3085]])"
            ]
          },
          "metadata": {},
          "execution_count": 41
        }
      ]
    },
    {
      "cell_type": "code",
      "source": [
        "E = (A @ B) @ C\n",
        "E"
      ],
      "metadata": {
        "colab": {
          "base_uri": "https://localhost:8080/"
        },
        "id": "JaIroI54bZNV",
        "outputId": "c717aa96-05f4-4dd2-9491-74b9dca7ec12"
      },
      "execution_count": null,
      "outputs": [
        {
          "output_type": "execute_result",
          "data": {
            "text/plain": [
              "array([[ 551,  695,  655],\n",
              "       [1511, 1877, 1777],\n",
              "       [2649, 3245, 3085]])"
            ]
          },
          "metadata": {},
          "execution_count": 42
        }
      ]
    },
    {
      "cell_type": "code",
      "source": [
        "np.array_equal(E, M) "
      ],
      "metadata": {
        "colab": {
          "base_uri": "https://localhost:8080/"
        },
        "id": "mxtgE3IUbh8s",
        "outputId": "633e8232-f8dd-42c3-a7e8-664a0d5a0992"
      },
      "execution_count": null,
      "outputs": [
        {
          "output_type": "execute_result",
          "data": {
            "text/plain": [
              "False"
            ]
          },
          "metadata": {},
          "execution_count": 43
        }
      ]
    },
    {
      "cell_type": "code",
      "source": [
        "np.array_equiv(D, E)"
      ],
      "metadata": {
        "colab": {
          "base_uri": "https://localhost:8080/"
        },
        "id": "smCwXludbrWU",
        "outputId": "84a114fe-83a6-4271-fb87-edc0e13cddd8"
      },
      "execution_count": null,
      "outputs": [
        {
          "output_type": "execute_result",
          "data": {
            "text/plain": [
              "True"
            ]
          },
          "metadata": {},
          "execution_count": 44
        }
      ]
    },
    {
      "cell_type": "code",
      "source": [
        "np.eye(A)"
      ],
      "metadata": {
        "colab": {
          "base_uri": "https://localhost:8080/",
          "height": 301
        },
        "id": "UxjDsKxvb0ot",
        "outputId": "ef43e69c-e343-4df5-ab1e-6b82fd36052c"
      },
      "execution_count": null,
      "outputs": [
        {
          "output_type": "error",
          "ename": "TypeError",
          "evalue": "ignored",
          "traceback": [
            "\u001b[0;31m---------------------------------------------------------------------------\u001b[0m",
            "\u001b[0;31mTypeError\u001b[0m                                 Traceback (most recent call last)",
            "\u001b[0;32m<ipython-input-49-13ff6dcd75e1>\u001b[0m in \u001b[0;36m<module>\u001b[0;34m()\u001b[0m\n\u001b[0;32m----> 1\u001b[0;31m \u001b[0mnp\u001b[0m\u001b[0;34m.\u001b[0m\u001b[0meye\u001b[0m\u001b[0;34m(\u001b[0m\u001b[0mA\u001b[0m\u001b[0;34m)\u001b[0m\u001b[0;34m\u001b[0m\u001b[0;34m\u001b[0m\u001b[0m\n\u001b[0m",
            "\u001b[0;32m/usr/local/lib/python3.7/dist-packages/numpy/lib/twodim_base.py\u001b[0m in \u001b[0;36meye\u001b[0;34m(N, M, k, dtype, order, like)\u001b[0m\n\u001b[1;32m    212\u001b[0m     \u001b[0;32mif\u001b[0m \u001b[0mM\u001b[0m \u001b[0;32mis\u001b[0m \u001b[0;32mNone\u001b[0m\u001b[0;34m:\u001b[0m\u001b[0;34m\u001b[0m\u001b[0;34m\u001b[0m\u001b[0m\n\u001b[1;32m    213\u001b[0m         \u001b[0mM\u001b[0m \u001b[0;34m=\u001b[0m \u001b[0mN\u001b[0m\u001b[0;34m\u001b[0m\u001b[0;34m\u001b[0m\u001b[0m\n\u001b[0;32m--> 214\u001b[0;31m     \u001b[0mm\u001b[0m \u001b[0;34m=\u001b[0m \u001b[0mzeros\u001b[0m\u001b[0;34m(\u001b[0m\u001b[0;34m(\u001b[0m\u001b[0mN\u001b[0m\u001b[0;34m,\u001b[0m \u001b[0mM\u001b[0m\u001b[0;34m)\u001b[0m\u001b[0;34m,\u001b[0m \u001b[0mdtype\u001b[0m\u001b[0;34m=\u001b[0m\u001b[0mdtype\u001b[0m\u001b[0;34m,\u001b[0m \u001b[0morder\u001b[0m\u001b[0;34m=\u001b[0m\u001b[0morder\u001b[0m\u001b[0;34m)\u001b[0m\u001b[0;34m\u001b[0m\u001b[0;34m\u001b[0m\u001b[0m\n\u001b[0m\u001b[1;32m    215\u001b[0m     \u001b[0;32mif\u001b[0m \u001b[0mk\u001b[0m \u001b[0;34m>=\u001b[0m \u001b[0mM\u001b[0m\u001b[0;34m:\u001b[0m\u001b[0;34m\u001b[0m\u001b[0;34m\u001b[0m\u001b[0m\n\u001b[1;32m    216\u001b[0m         \u001b[0;32mreturn\u001b[0m \u001b[0mm\u001b[0m\u001b[0;34m\u001b[0m\u001b[0;34m\u001b[0m\u001b[0m\n",
            "\u001b[0;31mTypeError\u001b[0m: only integer scalar arrays can be converted to a scalar index"
          ]
        }
      ]
    },
    {
      "cell_type": "code",
      "source": [
        "A @ D"
      ],
      "metadata": {
        "colab": {
          "base_uri": "https://localhost:8080/"
        },
        "id": "7WEnvKOmb5Yh",
        "outputId": "04b31170-0a7a-491c-f5b9-a6bd61880a70"
      },
      "execution_count": null,
      "outputs": [
        {
          "output_type": "execute_result",
          "data": {
            "text/plain": [
              "array([[11520, 14184, 13464],\n",
              "       [25653, 31635, 30015],\n",
              "       [35590, 43986, 41706]])"
            ]
          },
          "metadata": {},
          "execution_count": 46
        }
      ]
    },
    {
      "cell_type": "code",
      "source": [
        "z_mat = np.zeros(A.shape)\n",
        "z_mat"
      ],
      "metadata": {
        "colab": {
          "base_uri": "https://localhost:8080/"
        },
        "id": "RwZ3Ei0tb8LJ",
        "outputId": "b4d97b44-acaf-4069-c90c-2ed979337b7e"
      },
      "execution_count": null,
      "outputs": [
        {
          "output_type": "execute_result",
          "data": {
            "text/plain": [
              "array([[0., 0., 0.],\n",
              "       [0., 0., 0.],\n",
              "       [0., 0., 0.]])"
            ]
          },
          "metadata": {},
          "execution_count": 47
        }
      ]
    },
    {
      "cell_type": "code",
      "source": [
        "a_dot_z = A.dot(np.zeros(A.shape))\n",
        "a_dot_z"
      ],
      "metadata": {
        "colab": {
          "base_uri": "https://localhost:8080/"
        },
        "id": "13Lwd9DSb-28",
        "outputId": "aee1b31d-f5e9-4fdd-8704-5d1d45bc0b1b"
      },
      "execution_count": null,
      "outputs": [
        {
          "output_type": "execute_result",
          "data": {
            "text/plain": [
              "array([[0., 0., 0.],\n",
              "       [0., 0., 0.],\n",
              "       [0., 0., 0.]])"
            ]
          },
          "metadata": {},
          "execution_count": 48
        }
      ]
    },
    {
      "cell_type": "code",
      "source": [
        "np.array_equal(a_dot_z,z_mat)"
      ],
      "metadata": {
        "colab": {
          "base_uri": "https://localhost:8080/"
        },
        "id": "BACWoiUfcBhN",
        "outputId": "11792d27-ffd6-4c38-b8dc-cec058ad344d"
      },
      "execution_count": null,
      "outputs": [
        {
          "output_type": "execute_result",
          "data": {
            "text/plain": [
              "True"
            ]
          },
          "metadata": {},
          "execution_count": 49
        }
      ]
    },
    {
      "cell_type": "code",
      "source": [
        "null_mat = np.empty(A.shape, dtype=float)\n",
        "null = np.array(null_mat,dtype=float)\n",
        "print(null)\n",
        "np.allclose(a_dot_z,null)"
      ],
      "metadata": {
        "colab": {
          "base_uri": "https://localhost:8080/"
        },
        "id": "ntpINHu7cDcN",
        "outputId": "27483e0f-ecb7-429d-a5e1-c9886045a0e2"
      },
      "execution_count": null,
      "outputs": [
        {
          "output_type": "stream",
          "name": "stdout",
          "text": [
            "[[0. 0. 0.]\n",
            " [0. 0. 0.]\n",
            " [0. 0. 0.]]\n"
          ]
        },
        {
          "output_type": "execute_result",
          "data": {
            "text/plain": [
              "True"
            ]
          },
          "metadata": {},
          "execution_count": 50
        }
      ]
    },
    {
      "cell_type": "markdown",
      "source": [
        "## Determinant"
      ],
      "metadata": {
        "id": "x3CzoJnmcGwm"
      }
    },
    {
      "cell_type": "markdown",
      "source": [
        "A determinant is a scalar value that can be calculated using a square matrix. In matrix algebra, the determinant is a fundamental and crucial value. Although it will not be clear how it may be utilized realistically in this laboratory, it will be extensively employed in future lessons. \n",
        "\n",
        "The determinant of some matrix $A$ is denoted as $det(A)$ or $|A|$. So let's say $A$ is represented as:\n",
        "$$A = \\begin{bmatrix}a_{(0,0)}&a_{(0,1)}\\\\a_{(1,0)}&a_{(1,1)}\\end{bmatrix}$$\n",
        "We can compute for the determinant as:\n",
        "$$|A| = a_{(0,0)}*a_{(1,1)} - a_{(1,0)}*a_{(0,1)}$$\n",
        "So if we have $A$ as:\n",
        "$$A = \\begin{bmatrix}1&4\\\\0&3\\end{bmatrix}, |A| = 3$$\n",
        "\n",
        "But what about square matrices that aren't in the shape (2,2)? Several strategies, such as co-factor expansion and the minors method, can be used to solve this problem. This can be taught in a laboratory lecture, but we can use Python to perform the difficult computation of high-dimensional matrices programmatically. Using `np.linalg.det()`, we can accomplish this."
      ],
      "metadata": {
        "id": "3G7GfxvtcJBg"
      }
    },
    {
      "cell_type": "code",
      "source": [
        "S = np.array([\n",
        "    [3,2],\n",
        "    [3,4]\n",
        "])\n",
        "np.linalg.det(S)"
      ],
      "metadata": {
        "colab": {
          "base_uri": "https://localhost:8080/"
        },
        "id": "OUgDmBc7cIcR",
        "outputId": "aecc8179-c5bf-4c17-e33c-61a6c113dabf"
      },
      "execution_count": null,
      "outputs": [
        {
          "output_type": "execute_result",
          "data": {
            "text/plain": [
              "6.0"
            ]
          },
          "metadata": {},
          "execution_count": 51
        }
      ]
    },
    {
      "cell_type": "code",
      "source": [
        "V = np.array([\n",
        "              [4, 5, 6],\n",
        "              [9, 3 ,2],\n",
        "              [1, -2, -1]\n",
        "])\n",
        "np.linalg.det(V)"
      ],
      "metadata": {
        "colab": {
          "base_uri": "https://localhost:8080/"
        },
        "id": "mFtmtGl-cVVQ",
        "outputId": "2ad71090-801f-44ff-f493-f7d4a4aee126"
      },
      "execution_count": null,
      "outputs": [
        {
          "output_type": "execute_result",
          "data": {
            "text/plain": [
              "-67.00000000000004"
            ]
          },
          "metadata": {},
          "execution_count": 52
        }
      ]
    },
    {
      "cell_type": "code",
      "source": [
        "T = np.array([\n",
        "    [1,2,3,8],\n",
        "    [3,4,6,4],\n",
        "    [1,6,9,2],\n",
        "    [0,8,3,0]\n",
        "])\n",
        "np.linalg.det(T)"
      ],
      "metadata": {
        "colab": {
          "base_uri": "https://localhost:8080/"
        },
        "id": "_2d1OhKddc0U",
        "outputId": "7d5164f4-3d8f-4a4b-f9df-fc7bd1bc4e53"
      },
      "execution_count": null,
      "outputs": [
        {
          "output_type": "execute_result",
          "data": {
            "text/plain": [
              "827.9999999999999"
            ]
          },
          "metadata": {},
          "execution_count": 53
        }
      ]
    },
    {
      "cell_type": "markdown",
      "source": [
        "## Inverse"
      ],
      "metadata": {
        "id": "MoWnj2Xvd6Fv"
      }
    },
    {
      "cell_type": "markdown",
      "source": [
        "Another essential operation in matrix algebra is the inverse of a matrix. We can identify a matrix's solvability and characteristic as a system of linear equations by determining its inverse — we'll go over this more in the nect module. The inverse matrix can also be used to solve the problem of divisibility amongst matrices. Although element-by-element division is possible, dividing matrices as a whole is not. Inverse matrices allow a similar process that might be thought of as \"splitting\" matrices.\n",
        "\n",
        "Now to determine the inverse of a matrix we need to perform several steps. So let's say we have a matrix $M$:\n",
        "$$M = \\begin{bmatrix}1&7\\\\-3&5\\end{bmatrix}$$\n",
        "First, we need to get the determinant of $M$.\n",
        "$$|M| = (1)(5)-(-3)(7) = 26$$\n",
        "Next, we need to reform the matrix into the inverse form:\n",
        "$$M^{-1} = \\frac{1}{|M|} \\begin{bmatrix} m_{(1,1)} & -m_{(0,1)} \\\\ -m_{(1,0)} & m_{(0,0)}\\end{bmatrix}$$\n",
        "So that will be:\n",
        "$$M^{-1} = \\frac{1}{26} \\begin{bmatrix} 5 & -7 \\\\ 3 & 1\\end{bmatrix} = \\begin{bmatrix} \\frac{5}{26} & \\frac{-7}{26} \\\\ \\frac{3}{26} & \\frac{1}{26}\\end{bmatrix}$$\n",
        "For higher-dimension matrices you might need to use co-factors, minors, adjugates, and other reduction techinques. To solve this programmatially we can use `np.linalg.inv()`."
      ],
      "metadata": {
        "id": "muAsmUWqd9Z1"
      }
    },
    {
      "cell_type": "code",
      "source": [
        "C = np.array([\n",
        "    [8,6],\n",
        "    [6,-8]\n",
        "])\n",
        "\n",
        "np.array(C @ np.linalg.inv(C), dtype=int)"
      ],
      "metadata": {
        "colab": {
          "base_uri": "https://localhost:8080/"
        },
        "id": "Rx0oLalAeA32",
        "outputId": "a627d71a-76c9-419a-c5fe-ddca6e3f73f0"
      },
      "execution_count": null,
      "outputs": [
        {
          "output_type": "execute_result",
          "data": {
            "text/plain": [
              "array([[1, 0],\n",
              "       [0, 1]])"
            ]
          },
          "metadata": {},
          "execution_count": 54
        }
      ]
    },
    {
      "cell_type": "code",
      "source": [
        "R = np.array([\n",
        "              [1, 3, 5],\n",
        "              [7, 9, 2],\n",
        "              [-4, 6, 8]\n",
        "])\n",
        "T = np.linalg.inv(R)\n",
        "T"
      ],
      "metadata": {
        "colab": {
          "base_uri": "https://localhost:8080/"
        },
        "id": "TSMGXU47eDce",
        "outputId": "1cdfcf30-fc72-4b11-8491-31ed56a4e29c"
      },
      "execution_count": null,
      "outputs": [
        {
          "output_type": "execute_result",
          "data": {
            "text/plain": [
              "array([[ 0.23255814,  0.02325581, -0.15116279],\n",
              "       [-0.24806202,  0.10852713,  0.12790698],\n",
              "       [ 0.30232558, -0.06976744, -0.04651163]])"
            ]
          },
          "metadata": {},
          "execution_count": 55
        }
      ]
    },
    {
      "cell_type": "code",
      "source": [
        "R @ T"
      ],
      "metadata": {
        "colab": {
          "base_uri": "https://localhost:8080/"
        },
        "id": "DAlgu5pteFYp",
        "outputId": "e34f1bfa-415c-44f6-8f53-a1345012055f"
      },
      "execution_count": null,
      "outputs": [
        {
          "output_type": "execute_result",
          "data": {
            "text/plain": [
              "array([[ 1.00000000e+00,  1.38777878e-17, -3.46944695e-17],\n",
              "       [ 1.11022302e-16,  1.00000000e+00, -6.93889390e-17],\n",
              "       [ 0.00000000e+00,  0.00000000e+00,  1.00000000e+00]])"
            ]
          },
          "metadata": {},
          "execution_count": 56
        }
      ]
    },
    {
      "cell_type": "code",
      "source": [
        "M = np.array([\n",
        "    [1,2,2,3,4,4,5],\n",
        "    [20,6,6,7,8,8,9],\n",
        "    [0,1,1,2,3,3,4],\n",
        "    [10,11,11,10,9,9,11],\n",
        "    [9,16,8,9,7,7,8],\n",
        "    [-1,13,13,0,0,1,-1],\n",
        "    [20,3,0,4,5,15,12],\n",
        "])\n",
        "M_inv = np.linalg.inv(M)\n",
        "np.array(M @ M_inv,dtype=int)"
      ],
      "metadata": {
        "colab": {
          "base_uri": "https://localhost:8080/"
        },
        "id": "tTGGeG1aeG1n",
        "outputId": "2b30437c-01de-44fb-f3a7-21364d82c84f"
      },
      "execution_count": null,
      "outputs": [
        {
          "output_type": "execute_result",
          "data": {
            "text/plain": [
              "array([[1, 0, 0, 0, 0, 0, 0],\n",
              "       [0, 0, 0, 0, 0, 0, 0],\n",
              "       [0, 0, 1, 0, 0, 0, 0],\n",
              "       [0, 0, 0, 1, 0, 0, 0],\n",
              "       [0, 0, 0, 0, 1, 0, 0],\n",
              "       [0, 0, 0, 0, 0, 1, 0],\n",
              "       [0, 0, 0, 0, 0, 0, 0]])"
            ]
          },
          "metadata": {},
          "execution_count": 57
        }
      ]
    },
    {
      "cell_type": "markdown",
      "source": [
        "To validate the wether if the matrix that you have solved is really the inverse, we follow this dot product property for a matrix $M$:\n",
        "\n",
        "$$M\\cdot M^{-1} = I$$"
      ],
      "metadata": {
        "id": "Zcza-ZPveLJZ"
      }
    },
    {
      "cell_type": "code",
      "source": [
        "squad = np.array([\n",
        "    [1.2, 1.0, 0.8],\n",
        "    [0.5, 0.3, 1.0],\n",
        "    [0.9, 0.5, 1.9]\n",
        "])\n",
        "weights = np.array([\n",
        "    [0.5, 0.6, 0.7]\n",
        "])\n",
        "p_grade = squad @ weights.T\n",
        "p_grade"
      ],
      "metadata": {
        "colab": {
          "base_uri": "https://localhost:8080/"
        },
        "id": "Q_Q__wjCeL6M",
        "outputId": "41024cd6-3b44-4dd2-e3c7-c3f08ce04786"
      },
      "execution_count": null,
      "outputs": [
        {
          "output_type": "execute_result",
          "data": {
            "text/plain": [
              "array([[1.76],\n",
              "       [1.13],\n",
              "       [2.08]])"
            ]
          },
          "metadata": {},
          "execution_count": 58
        }
      ]
    },
    {
      "cell_type": "markdown",
      "source": [
        "## Activity"
      ],
      "metadata": {
        "id": "YWAKrwXJhnIG"
      }
    },
    {
      "cell_type": "markdown",
      "source": [
        "### Task 1"
      ],
      "metadata": {
        "id": "4CEFy5y7ho4A"
      }
    },
    {
      "cell_type": "markdown",
      "source": [
        "Prove and implement the remaining 6 matrix multiplication properties. You may create your own matrices in which their shapes should not be lower than $(3,3)$.\n",
        "In your methodology, create individual flowcharts for each property and discuss the property you would then present your proofs or validity of your implementation in the results section by comparing your result to present functions from NumPy.\n",
        "\n",
        " 1. $A \\cdot B \\neq B \\cdot A$\n",
        " 2. $A \\cdot (B \\cdot C) = (A \\cdot B) \\cdot C$\n",
        " 3. $A\\cdot(B+C) = A\\cdot B + A\\cdot C$\n",
        " 4. $(B+C)\\cdot A = B\\cdot A + C\\cdot A$\n",
        " 5. $A\\cdot I = A$\n",
        " 6. $A\\cdot \\emptyset = \\emptyset$ "
      ],
      "metadata": {
        "id": "-mbKmYAshrX8"
      }
    },
    {
      "cell_type": "code",
      "source": [
        "D = np.array([\n",
        "    [8, 4, 24],\n",
        "    [8, 6, -5],\n",
        "    [9, 1, 15]          \n",
        "])\n",
        "\n",
        "O = np.array([\n",
        "    [17, 35, 79],\n",
        "    [6, 51, 5],\n",
        "    [38, -1, -6]          \n",
        "])\n",
        "\n",
        "G = np.array([\n",
        "    [23, 70, -34],\n",
        "    [24, -9, 8],\n",
        "    [34, 2, 46]          \n",
        "])"
      ],
      "metadata": {
        "id": "eh0glBqpmIHg"
      },
      "execution_count": 3,
      "outputs": []
    },
    {
      "cell_type": "markdown",
      "source": [
        "Property no.1: $A \\cdot B \\neq B \\cdot A$"
      ],
      "metadata": {
        "id": "UbF4g5XqpB5P"
      }
    },
    {
      "cell_type": "code",
      "source": [
        "W = D @ O\n",
        "W"
      ],
      "metadata": {
        "colab": {
          "base_uri": "https://localhost:8080/"
        },
        "id": "xf0r3ys6mO-1",
        "outputId": "7f88c606-1244-454f-f25a-9693abaab8bc"
      },
      "execution_count": 43,
      "outputs": [
        {
          "output_type": "execute_result",
          "data": {
            "text/plain": [
              "array([[1072,  460,  508],\n",
              "       [ -18,  591,  692],\n",
              "       [ 729,  351,  626]])"
            ]
          },
          "metadata": {},
          "execution_count": 43
        }
      ]
    },
    {
      "cell_type": "code",
      "source": [
        "E = O @ D\n",
        "E"
      ],
      "metadata": {
        "colab": {
          "base_uri": "https://localhost:8080/"
        },
        "id": "S4xlVcYWmtSY",
        "outputId": "bf7e508a-e6fe-41b5-d7a4-af3d888d4bdf"
      },
      "execution_count": 42,
      "outputs": [
        {
          "output_type": "execute_result",
          "data": {
            "text/plain": [
              "array([[1127,  357, 1418],\n",
              "       [ 501,  335,  -36],\n",
              "       [ 242,  140,  827]])"
            ]
          },
          "metadata": {},
          "execution_count": 42
        }
      ]
    },
    {
      "cell_type": "code",
      "source": [
        "np.array_equiv(W, E)"
      ],
      "metadata": {
        "colab": {
          "base_uri": "https://localhost:8080/"
        },
        "id": "RiSBsVI7mvc_",
        "outputId": "3ec9e0a9-dba2-44ad-9bf7-346d76ce87b5"
      },
      "execution_count": 44,
      "outputs": [
        {
          "output_type": "execute_result",
          "data": {
            "text/plain": [
              "False"
            ]
          },
          "metadata": {},
          "execution_count": 44
        }
      ]
    },
    {
      "cell_type": "markdown",
      "source": [
        "Property no.2: $A \\cdot (B \\cdot C) = (A \\cdot B) \\cdot C$"
      ],
      "metadata": {
        "id": "qNsYJ6DKpL9O"
      }
    },
    {
      "cell_type": "code",
      "source": [
        "M = D @ (O @ G)\n",
        "M"
      ],
      "metadata": {
        "colab": {
          "base_uri": "https://localhost:8080/"
        },
        "id": "nLQ5ObZPmw3B",
        "outputId": "e8b593d3-1e27-44fc-d989-cbfbf954adf2"
      },
      "execution_count": 39,
      "outputs": [
        {
          "output_type": "execute_result",
          "data": {
            "text/plain": [
              "array([[52968, 71916, -9400],\n",
              "       [37298, -5195, 37172],\n",
              "       [46475, 49123,  6818]])"
            ]
          },
          "metadata": {},
          "execution_count": 39
        }
      ]
    },
    {
      "cell_type": "code",
      "source": [
        "Y = (D @ O) @ G\n",
        "Y "
      ],
      "metadata": {
        "colab": {
          "base_uri": "https://localhost:8080/"
        },
        "id": "o8Rc20hlmz4C",
        "outputId": "f813336c-4182-41af-b7b8-e10e37b976ef"
      },
      "execution_count": 40,
      "outputs": [
        {
          "output_type": "execute_result",
          "data": {
            "text/plain": [
              "array([[52968, 71916, -9400],\n",
              "       [37298, -5195, 37172],\n",
              "       [46475, 49123,  6818]])"
            ]
          },
          "metadata": {},
          "execution_count": 40
        }
      ]
    },
    {
      "cell_type": "code",
      "source": [
        " np.array_equiv(M,Y)"
      ],
      "metadata": {
        "colab": {
          "base_uri": "https://localhost:8080/"
        },
        "id": "wooC77rzm9YI",
        "outputId": "07780625-8dcc-4505-b092-e6005578ad38"
      },
      "execution_count": 41,
      "outputs": [
        {
          "output_type": "execute_result",
          "data": {
            "text/plain": [
              "True"
            ]
          },
          "metadata": {},
          "execution_count": 41
        }
      ]
    },
    {
      "cell_type": "markdown",
      "source": [
        "Property no.3: $A\\cdot(B+C) = A\\cdot B + A\\cdot C$"
      ],
      "metadata": {
        "id": "JzGFeqyIpU67"
      }
    },
    {
      "cell_type": "code",
      "source": [
        "I = D @ (O + G)\n",
        "I"
      ],
      "metadata": {
        "colab": {
          "base_uri": "https://localhost:8080/"
        },
        "id": "QGKOiOUtnAo6",
        "outputId": "f160eaaa-f11e-49a2-9d2c-483ac6283276"
      },
      "execution_count": 46,
      "outputs": [
        {
          "output_type": "execute_result",
          "data": {
            "text/plain": [
              "array([[2168, 1032, 1372],\n",
              "       [ 140, 1087,  238],\n",
              "       [1470, 1002, 1018]])"
            ]
          },
          "metadata": {},
          "execution_count": 46
        }
      ]
    },
    {
      "cell_type": "code",
      "source": [
        "S = D @ O + D @ G\n",
        "S"
      ],
      "metadata": {
        "colab": {
          "base_uri": "https://localhost:8080/"
        },
        "id": "_0sZ993OnQA0",
        "outputId": "0305b6fd-f5be-4c61-a4a5-fc88db8744bc"
      },
      "execution_count": 47,
      "outputs": [
        {
          "output_type": "execute_result",
          "data": {
            "text/plain": [
              "array([[2168, 1032, 1372],\n",
              "       [ 140, 1087,  238],\n",
              "       [1470, 1002, 1018]])"
            ]
          },
          "metadata": {},
          "execution_count": 47
        }
      ]
    },
    {
      "cell_type": "code",
      "source": [
        "np.array_equiv(I, S)"
      ],
      "metadata": {
        "colab": {
          "base_uri": "https://localhost:8080/"
        },
        "id": "P3NDB6oLnSYt",
        "outputId": "98059fc3-dea1-42d2-9687-df8e81ebf60d"
      },
      "execution_count": 48,
      "outputs": [
        {
          "output_type": "execute_result",
          "data": {
            "text/plain": [
              "True"
            ]
          },
          "metadata": {},
          "execution_count": 48
        }
      ]
    },
    {
      "cell_type": "markdown",
      "source": [
        "Propery no.4: $(B+C)\\cdot A = B\\cdot A + C\\cdot A$"
      ],
      "metadata": {
        "id": "holcdFD4prrq"
      }
    },
    {
      "cell_type": "code",
      "source": [
        "L = (O + G) @ D\n",
        "L"
      ],
      "metadata": {
        "colab": {
          "base_uri": "https://localhost:8080/"
        },
        "id": "9QmbyW5anUeh",
        "outputId": "11387ebd-a164-4028-a706-b85251afd702"
      },
      "execution_count": 49,
      "outputs": [
        {
          "output_type": "execute_result",
          "data": {
            "text/plain": [
              "array([[1565,  835, 1110],\n",
              "       [ 693,  385,  705],\n",
              "       [ 944,  334, 2323]])"
            ]
          },
          "metadata": {},
          "execution_count": 49
        }
      ]
    },
    {
      "cell_type": "code",
      "source": [
        "U = O @ D + G @ D\n",
        "U"
      ],
      "metadata": {
        "colab": {
          "base_uri": "https://localhost:8080/"
        },
        "id": "Dki-GGvonZlG",
        "outputId": "58c29fb5-ff30-40a2-f3af-f2552e4dd510"
      },
      "execution_count": 52,
      "outputs": [
        {
          "output_type": "execute_result",
          "data": {
            "text/plain": [
              "array([[1565,  835, 1110],\n",
              "       [ 693,  385,  705],\n",
              "       [ 944,  334, 2323]])"
            ]
          },
          "metadata": {},
          "execution_count": 52
        }
      ]
    },
    {
      "cell_type": "code",
      "source": [
        "np.array_equiv(L, U)"
      ],
      "metadata": {
        "colab": {
          "base_uri": "https://localhost:8080/"
        },
        "id": "JcAX0s66ndgm",
        "outputId": "af5329e4-cf8e-4871-f520-4dd68df0d908"
      },
      "execution_count": 53,
      "outputs": [
        {
          "output_type": "execute_result",
          "data": {
            "text/plain": [
              "True"
            ]
          },
          "metadata": {},
          "execution_count": 53
        }
      ]
    },
    {
      "cell_type": "markdown",
      "source": [
        "Property no.5: $A\\cdot I = A$"
      ],
      "metadata": {
        "id": "S9u1rwgupzf_"
      }
    },
    {
      "cell_type": "code",
      "source": [
        "D @ np.eye(3)"
      ],
      "metadata": {
        "colab": {
          "base_uri": "https://localhost:8080/"
        },
        "id": "kuJHwKWSnhGC",
        "outputId": "a7315819-bb91-44c8-8a5b-9b91414b0a78"
      },
      "execution_count": 18,
      "outputs": [
        {
          "output_type": "execute_result",
          "data": {
            "text/plain": [
              "array([[ 8.,  4., 24.],\n",
              "       [ 8.,  6., -5.],\n",
              "       [ 9.,  1., 15.]])"
            ]
          },
          "metadata": {},
          "execution_count": 18
        }
      ]
    },
    {
      "cell_type": "code",
      "source": [
        "np.array_equiv(D, D @ np.eye(3))"
      ],
      "metadata": {
        "colab": {
          "base_uri": "https://localhost:8080/"
        },
        "id": "5e15tFrjnkCQ",
        "outputId": "f303ec55-81b7-4035-c13e-1f0679b9f84a"
      },
      "execution_count": 20,
      "outputs": [
        {
          "output_type": "execute_result",
          "data": {
            "text/plain": [
              "True"
            ]
          },
          "metadata": {},
          "execution_count": 20
        }
      ]
    },
    {
      "cell_type": "markdown",
      "source": [
        "Property no.6:  $A\\cdot \\emptyset = \\emptyset$ "
      ],
      "metadata": {
        "id": "CxDPe2c3r36h"
      }
    },
    {
      "cell_type": "code",
      "source": [
        "D @ np.zeros ((3,3))"
      ],
      "metadata": {
        "colab": {
          "base_uri": "https://localhost:8080/"
        },
        "id": "b0vqZpzfnoAQ",
        "outputId": "59e10462-ecec-4a8b-ce1b-6d77fb307a0d"
      },
      "execution_count": 22,
      "outputs": [
        {
          "output_type": "execute_result",
          "data": {
            "text/plain": [
              "array([[0., 0., 0.],\n",
              "       [0., 0., 0.],\n",
              "       [0., 0., 0.]])"
            ]
          },
          "metadata": {},
          "execution_count": 22
        }
      ]
    },
    {
      "cell_type": "code",
      "source": [
        "np.array_equiv(D@np.zeros((3,3)), np.zeros((3,3)))"
      ],
      "metadata": {
        "colab": {
          "base_uri": "https://localhost:8080/"
        },
        "id": "2pHFMNwGnqVd",
        "outputId": "82a693d8-3c86-4186-cbef-4b078dd5476e"
      },
      "execution_count": 23,
      "outputs": [
        {
          "output_type": "execute_result",
          "data": {
            "text/plain": [
              "True"
            ]
          },
          "metadata": {},
          "execution_count": 23
        }
      ]
    },
    {
      "cell_type": "code",
      "source": [
        "D.dot(np.zeros(D.shape))"
      ],
      "metadata": {
        "colab": {
          "base_uri": "https://localhost:8080/"
        },
        "id": "IeM7wxFHnseR",
        "outputId": "1bc6b0c5-89c3-499b-a562-88cb619c84bf"
      },
      "execution_count": 24,
      "outputs": [
        {
          "output_type": "execute_result",
          "data": {
            "text/plain": [
              "array([[0., 0., 0.],\n",
              "       [0., 0., 0.],\n",
              "       [0., 0., 0.]])"
            ]
          },
          "metadata": {},
          "execution_count": 24
        }
      ]
    },
    {
      "cell_type": "code",
      "source": [
        "z_mat = np.zeros (D.shape)\n",
        "z_mat"
      ],
      "metadata": {
        "colab": {
          "base_uri": "https://localhost:8080/"
        },
        "id": "UVQ2WnhBnuWh",
        "outputId": "ded47880-21b7-42c5-f4a3-1ceb4ced4799"
      },
      "execution_count": 25,
      "outputs": [
        {
          "output_type": "execute_result",
          "data": {
            "text/plain": [
              "array([[0., 0., 0.],\n",
              "       [0., 0., 0.],\n",
              "       [0., 0., 0.]])"
            ]
          },
          "metadata": {},
          "execution_count": 25
        }
      ]
    },
    {
      "cell_type": "code",
      "source": [
        "i_dot_z = D.dot(np.zeros(D.shape))\n",
        "i_dot_z"
      ],
      "metadata": {
        "colab": {
          "base_uri": "https://localhost:8080/"
        },
        "id": "HV3vLzdPnwHY",
        "outputId": "10551e7f-abf6-489a-938d-716cef40bbc9"
      },
      "execution_count": 26,
      "outputs": [
        {
          "output_type": "execute_result",
          "data": {
            "text/plain": [
              "array([[0., 0., 0.],\n",
              "       [0., 0., 0.],\n",
              "       [0., 0., 0.]])"
            ]
          },
          "metadata": {},
          "execution_count": 26
        }
      ]
    },
    {
      "cell_type": "code",
      "source": [
        "np.array_equal(i_dot_z,z_mat)"
      ],
      "metadata": {
        "colab": {
          "base_uri": "https://localhost:8080/"
        },
        "id": "00U76jzdnyPM",
        "outputId": "9435d981-09bc-48e8-9dac-b92f7f67bf19"
      },
      "execution_count": 27,
      "outputs": [
        {
          "output_type": "execute_result",
          "data": {
            "text/plain": [
              "True"
            ]
          },
          "metadata": {},
          "execution_count": 27
        }
      ]
    },
    {
      "cell_type": "code",
      "source": [
        "null_mat = np.empty(D.shape, dtype = float)\n",
        "null = np.array(null_mat,dtype = float)\n",
        "print(null)\n",
        "np.allclose(i_dot_z , null)"
      ],
      "metadata": {
        "colab": {
          "base_uri": "https://localhost:8080/"
        },
        "id": "nAON8fP2nzWX",
        "outputId": "030a43ab-efcf-4149-8517-68fce55c11e3"
      },
      "execution_count": 28,
      "outputs": [
        {
          "output_type": "stream",
          "name": "stdout",
          "text": [
            "[[0. 0. 0.]\n",
            " [0. 0. 0.]\n",
            " [0. 0. 0.]]\n"
          ]
        },
        {
          "output_type": "execute_result",
          "data": {
            "text/plain": [
              "True"
            ]
          },
          "metadata": {},
          "execution_count": 28
        }
      ]
    }
  ]
}